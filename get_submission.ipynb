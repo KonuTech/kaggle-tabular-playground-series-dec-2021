{
 "cells": [
  {
   "cell_type": "code",
   "execution_count": 3,
   "metadata": {
    "collapsed": true
   },
   "outputs": [
    {
     "name": "stdout",
     "output_type": "stream",
     "text": [
      "Successfully submitted to Tabular Playground Series - Dec 2021\n"
     ]
    },
    {
     "name": "stderr",
     "output_type": "stream",
     "text": [
      "\n",
      "  0%|          | 0.00/9.54M [00:00<?, ?B/s]\n",
      "  1%|          | 96.0k/9.54M [00:00<00:10, 978kB/s]\n",
      "  8%|8         | 800k/9.54M [00:00<00:05, 1.63MB/s]\n",
      " 13%|#2        | 1.20M/9.54M [00:00<00:03, 2.24MB/s]\n",
      " 16%|#6        | 1.57M/9.54M [00:00<00:03, 2.62MB/s]\n",
      " 20%|##        | 1.92M/9.54M [00:00<00:02, 2.90MB/s]\n",
      " 24%|##3       | 2.28M/9.54M [00:00<00:02, 3.12MB/s]\n",
      " 28%|##7       | 2.64M/9.54M [00:01<00:02, 3.27MB/s]\n",
      " 31%|###1      | 2.98M/9.54M [00:01<00:02, 3.36MB/s]\n",
      " 35%|###5      | 3.34M/9.54M [00:01<00:01, 3.47MB/s]\n",
      " 39%|###8      | 3.70M/9.54M [00:01<00:01, 3.52MB/s]\n",
      " 42%|####2     | 4.05M/9.54M [00:01<00:01, 3.57MB/s]\n",
      " 46%|####6     | 4.40M/9.54M [00:01<00:01, 3.60MB/s]\n",
      " 50%|####9     | 4.75M/9.54M [00:01<00:01, 3.62MB/s]\n",
      " 53%|#####3    | 5.10M/9.54M [00:01<00:01, 3.63MB/s]\n",
      " 57%|#####7    | 5.45M/9.54M [00:01<00:01, 3.64MB/s]\n",
      " 61%|######    | 5.80M/9.54M [00:01<00:01, 3.65MB/s]\n",
      " 65%|######4   | 6.16M/9.54M [00:02<00:00, 3.66MB/s]\n",
      " 68%|######8   | 6.51M/9.54M [00:02<00:00, 3.67MB/s]\n",
      " 72%|#######1  | 6.86M/9.54M [00:02<00:00, 3.64MB/s]\n",
      " 76%|#######5  | 7.22M/9.54M [00:02<00:00, 3.66MB/s]\n",
      " 79%|#######9  | 7.58M/9.54M [00:02<00:00, 3.67MB/s]\n",
      " 83%|########3 | 7.93M/9.54M [00:02<00:00, 3.67MB/s]\n",
      " 87%|########6 | 8.28M/9.54M [00:02<00:00, 3.66MB/s]\n",
      " 91%|######### | 8.63M/9.54M [00:02<00:00, 3.67MB/s]\n",
      " 94%|#########4| 8.98M/9.54M [00:02<00:00, 3.66MB/s]\n",
      " 98%|#########7| 9.34M/9.54M [00:02<00:00, 3.66MB/s]\n",
      "100%|##########| 9.54M/9.54M [00:03<00:00, 2.51MB/s]\n"
     ]
    }
   ],
   "source": [
    "! kaggle competitions submit tabular-playground-series-dec-2021 -f inputs\\sample_submission.csv -m \"Sample submission\""
   ]
  },
  {
   "cell_type": "code",
   "execution_count": null,
   "outputs": [],
   "source": [],
   "metadata": {
    "collapsed": false,
    "pycharm": {
     "name": "#%%\n"
    }
   }
  }
 ],
 "metadata": {
  "kernelspec": {
   "display_name": "Python 3",
   "language": "python",
   "name": "python3"
  },
  "language_info": {
   "codemirror_mode": {
    "name": "ipython",
    "version": 2
   },
   "file_extension": ".py",
   "mimetype": "text/x-python",
   "name": "python",
   "nbconvert_exporter": "python",
   "pygments_lexer": "ipython2",
   "version": "2.7.6"
  }
 },
 "nbformat": 4,
 "nbformat_minor": 0
}