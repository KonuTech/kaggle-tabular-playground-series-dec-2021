{
 "cells": [
  {
   "cell_type": "code",
   "execution_count": 1,
   "outputs": [],
   "source": [
    "import warnings\n",
    "warnings.filterwarnings('ignore')"
   ],
   "metadata": {
    "collapsed": false,
    "pycharm": {
     "name": "#%%\n"
    }
   }
  },
  {
   "cell_type": "code",
   "execution_count": 2,
   "outputs": [],
   "source": [
    "import os\n",
    "import sys\n",
    "sys.path.insert(0, \"C:\\\\Users\\\\KonuTech\\\\DataSpellProjects\\\\kaggle-tabular-playground-series-dec-2021\\\\scripts\")\n",
    "import json\n",
    "import numpy as np\n",
    "import pandas as pd\n",
    "import math"
   ],
   "metadata": {
    "collapsed": false,
    "pycharm": {
     "name": "#%%\n"
    }
   }
  },
  {
   "cell_type": "code",
   "execution_count": 3,
   "outputs": [],
   "source": [
    "from catboost import CatBoostClassifier, Pool, EShapCalcType, EFeaturesSelectionAlgorithm"
   ],
   "metadata": {
    "collapsed": false,
    "pycharm": {
     "name": "#%%\n"
    }
   }
  },
  {
   "cell_type": "code",
   "execution_count": 4,
   "outputs": [],
   "source": [
    "! python scripts\\unzip.py inputs\\tabular-playground-series-dec-2021.zip"
   ],
   "metadata": {
    "collapsed": false,
    "pycharm": {
     "name": "#%%\n"
    }
   }
  },
  {
   "cell_type": "code",
   "execution_count": 5,
   "outputs": [],
   "source": [
    "CURRENT_WORKING_DIRECTORY = os.getcwd()"
   ],
   "metadata": {
    "collapsed": false,
    "pycharm": {
     "name": "#%%\n"
    }
   }
  },
  {
   "cell_type": "code",
   "execution_count": 6,
   "outputs": [],
   "source": [
    "INPUTS = CURRENT_WORKING_DIRECTORY + \"\\\\INPUTS\"\n",
    "SCRIPTS = CURRENT_WORKING_DIRECTORY + \"\\\\SCRIPTS\""
   ],
   "metadata": {
    "collapsed": false,
    "pycharm": {
     "name": "#%%\n"
    }
   }
  },
  {
   "cell_type": "code",
   "execution_count": 7,
   "outputs": [],
   "source": [
    "CONFIG_FILE = \"config.json\"\n",
    "with open(CURRENT_WORKING_DIRECTORY + \"\\\\\" + CONFIG_FILE, encoding='utf-8') as f:\n",
    "    CONFIG = json.load(f)"
   ],
   "metadata": {
    "collapsed": false,
    "pycharm": {
     "name": "#%%\n"
    }
   }
  },
  {
   "cell_type": "code",
   "execution_count": 8,
   "outputs": [],
   "source": [
    "TRAIN_PATH = CONFIG[\"INPUTS\"][\"TRAIN_PATH\"][0]\n",
    "TEST_PATH = CONFIG[\"INPUTS\"][\"TEST_PATH\"][0]\n",
    "TARGET = CONFIG[\"INPUTS\"][\"TARGET\"]\n",
    "INDEX_COL = CONFIG[\"INPUTS\"][\"INDEX_COLUMNS\"]\n",
    "SEP = CONFIG[\"INPUTS\"][\"SEPARATOR\"]\n",
    "DECIMAL = CONFIG[\"INPUTS\"][\"DECIMAL\"]\n",
    "ENCODING = CONFIG[\"INPUTS\"][\"ENCODING\"]\n",
    "DATE_COLUMNS = CONFIG[\"INPUTS\"][\"DATE_COLUMNS\"]\n",
    "FLOAT_PRECISION = CONFIG[\"INPUTS\"][\"FLOAT_PRECISION\"]\n",
    "DTYPE = CONFIG[\"INPUTS\"][\"DTYPE\"]\n",
    "COLUMNS_WITH_NAN_VALUES = CONFIG[\"INPUTS\"][\"COLUMNS_WITH_NAN_VALUES\"]"
   ],
   "metadata": {
    "collapsed": false,
    "pycharm": {
     "name": "#%%\n"
    }
   }
  },
  {
   "cell_type": "code",
   "execution_count": 9,
   "outputs": [
    {
     "data": {
      "text/plain": "'Cover_Type'"
     },
     "execution_count": 9,
     "metadata": {},
     "output_type": "execute_result"
    }
   ],
   "source": [
    "TARGET"
   ],
   "metadata": {
    "collapsed": false,
    "pycharm": {
     "name": "#%%\n"
    }
   }
  },
  {
   "cell_type": "markdown",
   "source": [
    "# TRAIN OVERVIEW"
   ],
   "metadata": {
    "collapsed": false,
    "pycharm": {
     "name": "#%% md\n"
    }
   }
  },
  {
   "cell_type": "code",
   "execution_count": 10,
   "outputs": [],
   "source": [
    "train = pd.read_csv(\n",
    "    INPUTS + \"\\\\\" + TRAIN_PATH,\n",
    "    index_col=INDEX_COL,\n",
    "    sep=SEP,\n",
    "    encoding=ENCODING,\n",
    "    infer_datetime_format=True,\n",
    "    engine=\"c\",\n",
    "    low_memory=False,\n",
    "    # dtype=DTYPE\n",
    ")"
   ],
   "metadata": {
    "collapsed": false,
    "pycharm": {
     "name": "#%%\n"
    }
   }
  },
  {
   "cell_type": "code",
   "execution_count": 11,
   "outputs": [
    {
     "name": "stdout",
     "output_type": "stream",
     "text": [
      "<class 'pandas.core.frame.DataFrame'>\n",
      "Int64Index: 4000000 entries, 0 to 3999999\n",
      "Data columns (total 55 columns):\n",
      " #   Column                              Dtype\n",
      "---  ------                              -----\n",
      " 0   Elevation                           int64\n",
      " 1   Aspect                              int64\n",
      " 2   Slope                               int64\n",
      " 3   Horizontal_Distance_To_Hydrology    int64\n",
      " 4   Vertical_Distance_To_Hydrology      int64\n",
      " 5   Horizontal_Distance_To_Roadways     int64\n",
      " 6   Hillshade_9am                       int64\n",
      " 7   Hillshade_Noon                      int64\n",
      " 8   Hillshade_3pm                       int64\n",
      " 9   Horizontal_Distance_To_Fire_Points  int64\n",
      " 10  Wilderness_Area1                    int64\n",
      " 11  Wilderness_Area2                    int64\n",
      " 12  Wilderness_Area3                    int64\n",
      " 13  Wilderness_Area4                    int64\n",
      " 14  Soil_Type1                          int64\n",
      " 15  Soil_Type2                          int64\n",
      " 16  Soil_Type3                          int64\n",
      " 17  Soil_Type4                          int64\n",
      " 18  Soil_Type5                          int64\n",
      " 19  Soil_Type6                          int64\n",
      " 20  Soil_Type7                          int64\n",
      " 21  Soil_Type8                          int64\n",
      " 22  Soil_Type9                          int64\n",
      " 23  Soil_Type10                         int64\n",
      " 24  Soil_Type11                         int64\n",
      " 25  Soil_Type12                         int64\n",
      " 26  Soil_Type13                         int64\n",
      " 27  Soil_Type14                         int64\n",
      " 28  Soil_Type15                         int64\n",
      " 29  Soil_Type16                         int64\n",
      " 30  Soil_Type17                         int64\n",
      " 31  Soil_Type18                         int64\n",
      " 32  Soil_Type19                         int64\n",
      " 33  Soil_Type20                         int64\n",
      " 34  Soil_Type21                         int64\n",
      " 35  Soil_Type22                         int64\n",
      " 36  Soil_Type23                         int64\n",
      " 37  Soil_Type24                         int64\n",
      " 38  Soil_Type25                         int64\n",
      " 39  Soil_Type26                         int64\n",
      " 40  Soil_Type27                         int64\n",
      " 41  Soil_Type28                         int64\n",
      " 42  Soil_Type29                         int64\n",
      " 43  Soil_Type30                         int64\n",
      " 44  Soil_Type31                         int64\n",
      " 45  Soil_Type32                         int64\n",
      " 46  Soil_Type33                         int64\n",
      " 47  Soil_Type34                         int64\n",
      " 48  Soil_Type35                         int64\n",
      " 49  Soil_Type36                         int64\n",
      " 50  Soil_Type37                         int64\n",
      " 51  Soil_Type38                         int64\n",
      " 52  Soil_Type39                         int64\n",
      " 53  Soil_Type40                         int64\n",
      " 54  Cover_Type                          int64\n",
      "dtypes: int64(55)\n",
      "memory usage: 1.7 GB\n"
     ]
    }
   ],
   "source": [
    "train.info()"
   ],
   "metadata": {
    "collapsed": false,
    "pycharm": {
     "name": "#%%\n"
    }
   }
  },
  {
   "cell_type": "code",
   "execution_count": 12,
   "outputs": [
    {
     "data": {
      "text/plain": "2    2262087\n1    1468136\n3     195712\n7      62261\n6      11426\n4        377\n5          1\nName: Cover_Type, dtype: int64"
     },
     "execution_count": 12,
     "metadata": {},
     "output_type": "execute_result"
    }
   ],
   "source": [
    "train[TARGET].value_counts()"
   ],
   "metadata": {
    "collapsed": false,
    "pycharm": {
     "name": "#%%\n"
    }
   }
  },
  {
   "cell_type": "code",
   "execution_count": 13,
   "outputs": [
    {
     "data": {
      "text/plain": "Index(['Elevation', 'Aspect', 'Slope', 'Horizontal_Distance_To_Hydrology',\n       'Vertical_Distance_To_Hydrology', 'Horizontal_Distance_To_Roadways',\n       'Hillshade_9am', 'Hillshade_Noon', 'Hillshade_3pm',\n       'Horizontal_Distance_To_Fire_Points', 'Wilderness_Area1',\n       'Wilderness_Area2', 'Wilderness_Area3', 'Wilderness_Area4',\n       'Soil_Type1', 'Soil_Type2', 'Soil_Type3', 'Soil_Type4', 'Soil_Type5',\n       'Soil_Type6', 'Soil_Type7', 'Soil_Type8', 'Soil_Type9', 'Soil_Type10',\n       'Soil_Type11', 'Soil_Type12', 'Soil_Type13', 'Soil_Type14',\n       'Soil_Type15', 'Soil_Type16', 'Soil_Type17', 'Soil_Type18',\n       'Soil_Type19', 'Soil_Type20', 'Soil_Type21', 'Soil_Type22',\n       'Soil_Type23', 'Soil_Type24', 'Soil_Type25', 'Soil_Type26',\n       'Soil_Type27', 'Soil_Type28', 'Soil_Type29', 'Soil_Type30',\n       'Soil_Type31', 'Soil_Type32', 'Soil_Type33', 'Soil_Type34',\n       'Soil_Type35', 'Soil_Type36', 'Soil_Type37', 'Soil_Type38',\n       'Soil_Type39', 'Soil_Type40'],\n      dtype='object')"
     },
     "execution_count": 13,
     "metadata": {},
     "output_type": "execute_result"
    }
   ],
   "source": [
    "TRAIN_NUMERIC_COLUMNS = train.select_dtypes(include=[\"float64\", \"int64\"]).columns\n",
    "TRAIN_NUMERIC_COLUMNS = TRAIN_NUMERIC_COLUMNS.drop(TARGET)\n",
    "TRAIN_NUMERIC_COLUMNS"
   ],
   "metadata": {
    "collapsed": false,
    "pycharm": {
     "name": "#%%\n"
    }
   }
  },
  {
   "cell_type": "code",
   "execution_count": 14,
   "outputs": [
    {
     "data": {
      "text/plain": "Index([], dtype='object')"
     },
     "execution_count": 14,
     "metadata": {},
     "output_type": "execute_result"
    }
   ],
   "source": [
    "TRAIN_OBJECT_COLUMNS = train.select_dtypes(include=[\"object\"]).columns\n",
    "TRAIN_OBJECT_COLUMNS"
   ],
   "metadata": {
    "collapsed": false,
    "pycharm": {
     "name": "#%%\n"
    }
   }
  },
  {
   "cell_type": "markdown",
   "source": [
    "# TEST OVERVIEW"
   ],
   "metadata": {
    "collapsed": false,
    "pycharm": {
     "name": "#%% md\n"
    }
   }
  },
  {
   "cell_type": "code",
   "execution_count": 15,
   "outputs": [],
   "source": [
    "test = pd.read_csv(\n",
    "    INPUTS + \"\\\\\" + TEST_PATH,\n",
    "    index_col=INDEX_COL,\n",
    "    sep=SEP,\n",
    "    encoding=ENCODING,\n",
    "    infer_datetime_format=True,\n",
    "    engine=\"c\",\n",
    "    low_memory=False,\n",
    "    # dtype=DTYPE\n",
    ")"
   ],
   "metadata": {
    "collapsed": false,
    "pycharm": {
     "name": "#%%\n"
    }
   }
  },
  {
   "cell_type": "code",
   "execution_count": 16,
   "outputs": [
    {
     "name": "stdout",
     "output_type": "stream",
     "text": [
      "<class 'pandas.core.frame.DataFrame'>\n",
      "Int64Index: 1000000 entries, 4000000 to 4999999\n",
      "Data columns (total 54 columns):\n",
      " #   Column                              Non-Null Count    Dtype\n",
      "---  ------                              --------------    -----\n",
      " 0   Elevation                           1000000 non-null  int64\n",
      " 1   Aspect                              1000000 non-null  int64\n",
      " 2   Slope                               1000000 non-null  int64\n",
      " 3   Horizontal_Distance_To_Hydrology    1000000 non-null  int64\n",
      " 4   Vertical_Distance_To_Hydrology      1000000 non-null  int64\n",
      " 5   Horizontal_Distance_To_Roadways     1000000 non-null  int64\n",
      " 6   Hillshade_9am                       1000000 non-null  int64\n",
      " 7   Hillshade_Noon                      1000000 non-null  int64\n",
      " 8   Hillshade_3pm                       1000000 non-null  int64\n",
      " 9   Horizontal_Distance_To_Fire_Points  1000000 non-null  int64\n",
      " 10  Wilderness_Area1                    1000000 non-null  int64\n",
      " 11  Wilderness_Area2                    1000000 non-null  int64\n",
      " 12  Wilderness_Area3                    1000000 non-null  int64\n",
      " 13  Wilderness_Area4                    1000000 non-null  int64\n",
      " 14  Soil_Type1                          1000000 non-null  int64\n",
      " 15  Soil_Type2                          1000000 non-null  int64\n",
      " 16  Soil_Type3                          1000000 non-null  int64\n",
      " 17  Soil_Type4                          1000000 non-null  int64\n",
      " 18  Soil_Type5                          1000000 non-null  int64\n",
      " 19  Soil_Type6                          1000000 non-null  int64\n",
      " 20  Soil_Type7                          1000000 non-null  int64\n",
      " 21  Soil_Type8                          1000000 non-null  int64\n",
      " 22  Soil_Type9                          1000000 non-null  int64\n",
      " 23  Soil_Type10                         1000000 non-null  int64\n",
      " 24  Soil_Type11                         1000000 non-null  int64\n",
      " 25  Soil_Type12                         1000000 non-null  int64\n",
      " 26  Soil_Type13                         1000000 non-null  int64\n",
      " 27  Soil_Type14                         1000000 non-null  int64\n",
      " 28  Soil_Type15                         1000000 non-null  int64\n",
      " 29  Soil_Type16                         1000000 non-null  int64\n",
      " 30  Soil_Type17                         1000000 non-null  int64\n",
      " 31  Soil_Type18                         1000000 non-null  int64\n",
      " 32  Soil_Type19                         1000000 non-null  int64\n",
      " 33  Soil_Type20                         1000000 non-null  int64\n",
      " 34  Soil_Type21                         1000000 non-null  int64\n",
      " 35  Soil_Type22                         1000000 non-null  int64\n",
      " 36  Soil_Type23                         1000000 non-null  int64\n",
      " 37  Soil_Type24                         1000000 non-null  int64\n",
      " 38  Soil_Type25                         1000000 non-null  int64\n",
      " 39  Soil_Type26                         1000000 non-null  int64\n",
      " 40  Soil_Type27                         1000000 non-null  int64\n",
      " 41  Soil_Type28                         1000000 non-null  int64\n",
      " 42  Soil_Type29                         1000000 non-null  int64\n",
      " 43  Soil_Type30                         1000000 non-null  int64\n",
      " 44  Soil_Type31                         1000000 non-null  int64\n",
      " 45  Soil_Type32                         1000000 non-null  int64\n",
      " 46  Soil_Type33                         1000000 non-null  int64\n",
      " 47  Soil_Type34                         1000000 non-null  int64\n",
      " 48  Soil_Type35                         1000000 non-null  int64\n",
      " 49  Soil_Type36                         1000000 non-null  int64\n",
      " 50  Soil_Type37                         1000000 non-null  int64\n",
      " 51  Soil_Type38                         1000000 non-null  int64\n",
      " 52  Soil_Type39                         1000000 non-null  int64\n",
      " 53  Soil_Type40                         1000000 non-null  int64\n",
      "dtypes: int64(54)\n",
      "memory usage: 419.6 MB\n"
     ]
    }
   ],
   "source": [
    "test.info()"
   ],
   "metadata": {
    "collapsed": false,
    "pycharm": {
     "name": "#%%\n"
    }
   }
  },
  {
   "cell_type": "code",
   "execution_count": 17,
   "outputs": [
    {
     "data": {
      "text/plain": "Index(['Elevation', 'Aspect', 'Slope', 'Horizontal_Distance_To_Hydrology',\n       'Vertical_Distance_To_Hydrology', 'Horizontal_Distance_To_Roadways',\n       'Hillshade_9am', 'Hillshade_Noon', 'Hillshade_3pm',\n       'Horizontal_Distance_To_Fire_Points', 'Wilderness_Area1',\n       'Wilderness_Area2', 'Wilderness_Area3', 'Wilderness_Area4',\n       'Soil_Type1', 'Soil_Type2', 'Soil_Type3', 'Soil_Type4', 'Soil_Type5',\n       'Soil_Type6', 'Soil_Type7', 'Soil_Type8', 'Soil_Type9', 'Soil_Type10',\n       'Soil_Type11', 'Soil_Type12', 'Soil_Type13', 'Soil_Type14',\n       'Soil_Type15', 'Soil_Type16', 'Soil_Type17', 'Soil_Type18',\n       'Soil_Type19', 'Soil_Type20', 'Soil_Type21', 'Soil_Type22',\n       'Soil_Type23', 'Soil_Type24', 'Soil_Type25', 'Soil_Type26',\n       'Soil_Type27', 'Soil_Type28', 'Soil_Type29', 'Soil_Type30',\n       'Soil_Type31', 'Soil_Type32', 'Soil_Type33', 'Soil_Type34',\n       'Soil_Type35', 'Soil_Type36', 'Soil_Type37', 'Soil_Type38',\n       'Soil_Type39', 'Soil_Type40'],\n      dtype='object')"
     },
     "execution_count": 17,
     "metadata": {},
     "output_type": "execute_result"
    }
   ],
   "source": [
    "TEST_NUMERIC_COLUMNS = test.select_dtypes(include=[\"float64\", \"int64\"]).columns\n",
    "TEST_NUMERIC_COLUMNS"
   ],
   "metadata": {
    "collapsed": false,
    "pycharm": {
     "name": "#%%\n"
    }
   }
  },
  {
   "cell_type": "code",
   "execution_count": 18,
   "outputs": [
    {
     "data": {
      "text/plain": "Index([], dtype='object')"
     },
     "execution_count": 18,
     "metadata": {},
     "output_type": "execute_result"
    }
   ],
   "source": [
    "TEST_OBJECT_COLUMNS = test.select_dtypes(include=[\"object\"]).columns\n",
    "TEST_OBJECT_COLUMNS"
   ],
   "metadata": {
    "collapsed": false,
    "pycharm": {
     "name": "#%%\n"
    }
   }
  },
  {
   "cell_type": "markdown",
   "source": [
    "# FEATURES AND TARGET"
   ],
   "metadata": {
    "collapsed": false,
    "pycharm": {
     "name": "#%% md\n"
    }
   }
  },
  {
   "cell_type": "code",
   "execution_count": 19,
   "outputs": [],
   "source": [
    "features = [col for col in train.columns if col not in [TARGET]]"
   ],
   "metadata": {
    "collapsed": false,
    "pycharm": {
     "name": "#%%\n"
    }
   }
  },
  {
   "cell_type": "code",
   "execution_count": 20,
   "outputs": [],
   "source": [
    "X_train = train[features]"
   ],
   "metadata": {
    "collapsed": false,
    "pycharm": {
     "name": "#%%\n"
    }
   }
  },
  {
   "cell_type": "code",
   "execution_count": 21,
   "outputs": [
    {
     "data": {
      "text/plain": "         Elevation  Aspect  Slope  Horizontal_Distance_To_Hydrology  \\\nId                                                                    \n3855674       3288     267      5                               214   \n933594        3420     276     12                               345   \n\n         Vertical_Distance_To_Hydrology  Horizontal_Distance_To_Roadways  \\\nId                                                                         \n3855674                              42                             1167   \n933594                               17                             2902   \n\n         Hillshade_9am  Hillshade_Noon  Hillshade_3pm  \\\nId                                                      \n3855674            225             244            146   \n933594             239             244            151   \n\n         Horizontal_Distance_To_Fire_Points  ...  Soil_Type31  Soil_Type32  \\\nId                                           ...                             \n3855674                                1509  ...            0            0   \n933594                                  669  ...            0            0   \n\n         Soil_Type33  Soil_Type34  Soil_Type35  Soil_Type36  Soil_Type37  \\\nId                                                                         \n3855674            0            0            1            0            0   \n933594             0            0            0            0            0   \n\n         Soil_Type38  Soil_Type39  Soil_Type40  \nId                                              \n3855674            0            0            0  \n933594             0            0            0  \n\n[2 rows x 54 columns]",
      "text/html": "<div>\n<style scoped>\n    .dataframe tbody tr th:only-of-type {\n        vertical-align: middle;\n    }\n\n    .dataframe tbody tr th {\n        vertical-align: top;\n    }\n\n    .dataframe thead th {\n        text-align: right;\n    }\n</style>\n<table border=\"1\" class=\"dataframe\">\n  <thead>\n    <tr style=\"text-align: right;\">\n      <th></th>\n      <th>Elevation</th>\n      <th>Aspect</th>\n      <th>Slope</th>\n      <th>Horizontal_Distance_To_Hydrology</th>\n      <th>Vertical_Distance_To_Hydrology</th>\n      <th>Horizontal_Distance_To_Roadways</th>\n      <th>Hillshade_9am</th>\n      <th>Hillshade_Noon</th>\n      <th>Hillshade_3pm</th>\n      <th>Horizontal_Distance_To_Fire_Points</th>\n      <th>...</th>\n      <th>Soil_Type31</th>\n      <th>Soil_Type32</th>\n      <th>Soil_Type33</th>\n      <th>Soil_Type34</th>\n      <th>Soil_Type35</th>\n      <th>Soil_Type36</th>\n      <th>Soil_Type37</th>\n      <th>Soil_Type38</th>\n      <th>Soil_Type39</th>\n      <th>Soil_Type40</th>\n    </tr>\n    <tr>\n      <th>Id</th>\n      <th></th>\n      <th></th>\n      <th></th>\n      <th></th>\n      <th></th>\n      <th></th>\n      <th></th>\n      <th></th>\n      <th></th>\n      <th></th>\n      <th></th>\n      <th></th>\n      <th></th>\n      <th></th>\n      <th></th>\n      <th></th>\n      <th></th>\n      <th></th>\n      <th></th>\n      <th></th>\n      <th></th>\n    </tr>\n  </thead>\n  <tbody>\n    <tr>\n      <th>3855674</th>\n      <td>3288</td>\n      <td>267</td>\n      <td>5</td>\n      <td>214</td>\n      <td>42</td>\n      <td>1167</td>\n      <td>225</td>\n      <td>244</td>\n      <td>146</td>\n      <td>1509</td>\n      <td>...</td>\n      <td>0</td>\n      <td>0</td>\n      <td>0</td>\n      <td>0</td>\n      <td>1</td>\n      <td>0</td>\n      <td>0</td>\n      <td>0</td>\n      <td>0</td>\n      <td>0</td>\n    </tr>\n    <tr>\n      <th>933594</th>\n      <td>3420</td>\n      <td>276</td>\n      <td>12</td>\n      <td>345</td>\n      <td>17</td>\n      <td>2902</td>\n      <td>239</td>\n      <td>244</td>\n      <td>151</td>\n      <td>669</td>\n      <td>...</td>\n      <td>0</td>\n      <td>0</td>\n      <td>0</td>\n      <td>0</td>\n      <td>0</td>\n      <td>0</td>\n      <td>0</td>\n      <td>0</td>\n      <td>0</td>\n      <td>0</td>\n    </tr>\n  </tbody>\n</table>\n<p>2 rows × 54 columns</p>\n</div>"
     },
     "execution_count": 21,
     "metadata": {},
     "output_type": "execute_result"
    }
   ],
   "source": [
    "X_train.sample(2)"
   ],
   "metadata": {
    "collapsed": false,
    "pycharm": {
     "name": "#%%\n"
    }
   }
  },
  {
   "cell_type": "code",
   "execution_count": 22,
   "outputs": [],
   "source": [
    "y_train = train[TARGET]"
   ],
   "metadata": {
    "collapsed": false,
    "pycharm": {
     "name": "#%%\n"
    }
   }
  },
  {
   "cell_type": "code",
   "execution_count": 23,
   "outputs": [
    {
     "data": {
      "text/plain": "2    2262087\n1    1468136\n3     195712\n7      62261\n6      11426\n4        377\n5          1\nName: Cover_Type, dtype: int64"
     },
     "execution_count": 23,
     "metadata": {},
     "output_type": "execute_result"
    }
   ],
   "source": [
    "y_train.value_counts()"
   ],
   "metadata": {
    "collapsed": false,
    "pycharm": {
     "name": "#%%\n"
    }
   }
  },
  {
   "cell_type": "code",
   "execution_count": 24,
   "outputs": [],
   "source": [
    "X_test = test[features]"
   ],
   "metadata": {
    "collapsed": false,
    "pycharm": {
     "name": "#%%\n"
    }
   }
  },
  {
   "cell_type": "code",
   "execution_count": 25,
   "outputs": [
    {
     "data": {
      "text/plain": "         Elevation  Aspect  Slope  Horizontal_Distance_To_Hydrology  \\\nId                                                                    \n4437971       2582     319     12                                49   \n4482368       3328      11     18                                58   \n\n         Vertical_Distance_To_Hydrology  Horizontal_Distance_To_Roadways  \\\nId                                                                         \n4437971                             132                              266   \n4482368                               0                             1039   \n\n         Hillshade_9am  Hillshade_Noon  Hillshade_3pm  \\\nId                                                      \n4437971            232             166            146   \n4482368            227             138             89   \n\n         Horizontal_Distance_To_Fire_Points  ...  Soil_Type31  Soil_Type32  \\\nId                                           ...                             \n4437971                                2043  ...            0            0   \n4482368                                3886  ...            0            0   \n\n         Soil_Type33  Soil_Type34  Soil_Type35  Soil_Type36  Soil_Type37  \\\nId                                                                         \n4437971            0            0            0            0            0   \n4482368            0            0            0            0            0   \n\n         Soil_Type38  Soil_Type39  Soil_Type40  \nId                                              \n4437971            0            0            0  \n4482368            0            0            0  \n\n[2 rows x 54 columns]",
      "text/html": "<div>\n<style scoped>\n    .dataframe tbody tr th:only-of-type {\n        vertical-align: middle;\n    }\n\n    .dataframe tbody tr th {\n        vertical-align: top;\n    }\n\n    .dataframe thead th {\n        text-align: right;\n    }\n</style>\n<table border=\"1\" class=\"dataframe\">\n  <thead>\n    <tr style=\"text-align: right;\">\n      <th></th>\n      <th>Elevation</th>\n      <th>Aspect</th>\n      <th>Slope</th>\n      <th>Horizontal_Distance_To_Hydrology</th>\n      <th>Vertical_Distance_To_Hydrology</th>\n      <th>Horizontal_Distance_To_Roadways</th>\n      <th>Hillshade_9am</th>\n      <th>Hillshade_Noon</th>\n      <th>Hillshade_3pm</th>\n      <th>Horizontal_Distance_To_Fire_Points</th>\n      <th>...</th>\n      <th>Soil_Type31</th>\n      <th>Soil_Type32</th>\n      <th>Soil_Type33</th>\n      <th>Soil_Type34</th>\n      <th>Soil_Type35</th>\n      <th>Soil_Type36</th>\n      <th>Soil_Type37</th>\n      <th>Soil_Type38</th>\n      <th>Soil_Type39</th>\n      <th>Soil_Type40</th>\n    </tr>\n    <tr>\n      <th>Id</th>\n      <th></th>\n      <th></th>\n      <th></th>\n      <th></th>\n      <th></th>\n      <th></th>\n      <th></th>\n      <th></th>\n      <th></th>\n      <th></th>\n      <th></th>\n      <th></th>\n      <th></th>\n      <th></th>\n      <th></th>\n      <th></th>\n      <th></th>\n      <th></th>\n      <th></th>\n      <th></th>\n      <th></th>\n    </tr>\n  </thead>\n  <tbody>\n    <tr>\n      <th>4437971</th>\n      <td>2582</td>\n      <td>319</td>\n      <td>12</td>\n      <td>49</td>\n      <td>132</td>\n      <td>266</td>\n      <td>232</td>\n      <td>166</td>\n      <td>146</td>\n      <td>2043</td>\n      <td>...</td>\n      <td>0</td>\n      <td>0</td>\n      <td>0</td>\n      <td>0</td>\n      <td>0</td>\n      <td>0</td>\n      <td>0</td>\n      <td>0</td>\n      <td>0</td>\n      <td>0</td>\n    </tr>\n    <tr>\n      <th>4482368</th>\n      <td>3328</td>\n      <td>11</td>\n      <td>18</td>\n      <td>58</td>\n      <td>0</td>\n      <td>1039</td>\n      <td>227</td>\n      <td>138</td>\n      <td>89</td>\n      <td>3886</td>\n      <td>...</td>\n      <td>0</td>\n      <td>0</td>\n      <td>0</td>\n      <td>0</td>\n      <td>0</td>\n      <td>0</td>\n      <td>0</td>\n      <td>0</td>\n      <td>0</td>\n      <td>0</td>\n    </tr>\n  </tbody>\n</table>\n<p>2 rows × 54 columns</p>\n</div>"
     },
     "execution_count": 25,
     "metadata": {},
     "output_type": "execute_result"
    }
   ],
   "source": [
    "X_test.sample(2)"
   ],
   "metadata": {
    "collapsed": false,
    "pycharm": {
     "name": "#%%\n"
    }
   }
  },
  {
   "cell_type": "code",
   "execution_count": 26,
   "outputs": [
    {
     "name": "stdout",
     "output_type": "stream",
     "text": [
      " X_train shape:  (4000000, 54) \n",
      " y_train shape:  (4000000,) \n",
      " X_test  shape:  (1000000, 54) \n",
      " y_test  shape:  None\n"
     ]
    }
   ],
   "source": [
    "print(\" X_train shape: \", X_train.shape, \"\\n\", \"y_train shape: \", y_train.shape, \"\\n\", \"X_test  shape: \", X_test.shape, \"\\n\", \"y_test  shape: \", None)"
   ],
   "metadata": {
    "collapsed": false,
    "pycharm": {
     "name": "#%%\n"
    }
   }
  },
  {
   "cell_type": "markdown",
   "source": [
    "### Categorical Features"
   ],
   "metadata": {
    "collapsed": false,
    "pycharm": {
     "name": "#%% md\n"
    }
   }
  },
  {
   "cell_type": "code",
   "execution_count": 27,
   "outputs": [],
   "source": [
    "categorical_features = TEST_OBJECT_COLUMNS"
   ],
   "metadata": {
    "collapsed": false,
    "pycharm": {
     "name": "#%%\n"
    }
   }
  },
  {
   "cell_type": "code",
   "execution_count": 28,
   "outputs": [],
   "source": [
    "categorical_features_index = []\n",
    "for column in categorical_features:\n",
    "    categorical_features_index.append(X_train.columns.get_loc(column))"
   ],
   "metadata": {
    "collapsed": false,
    "pycharm": {
     "name": "#%%\n"
    }
   }
  },
  {
   "cell_type": "code",
   "execution_count": 29,
   "outputs": [
    {
     "data": {
      "text/plain": "[]"
     },
     "execution_count": 29,
     "metadata": {},
     "output_type": "execute_result"
    }
   ],
   "source": [
    "categorical_features_index"
   ],
   "metadata": {
    "collapsed": false,
    "pycharm": {
     "name": "#%%\n"
    }
   }
  },
  {
   "cell_type": "markdown",
   "source": [
    "### Class Weights"
   ],
   "metadata": {
    "collapsed": false,
    "pycharm": {
     "name": "#%% md\n"
    }
   }
  },
  {
   "cell_type": "code",
   "execution_count": 30,
   "outputs": [],
   "source": [
    "# labels_dict : {ind_label: count_label}\n",
    "# mu : parameter to tune\n",
    "\n",
    "def create_class_weight(labels_dict, mu=0.15):\n",
    "    total = np.sum(list(labels_dict.values()))\n",
    "    keys = labels_dict.keys()\n",
    "    class_weight = dict()\n",
    "\n",
    "    for key in keys:\n",
    "        score = math.log(mu*total/float(labels_dict[key]))\n",
    "        class_weight[key] = score if score > 1.0 else 1.0\n",
    "\n",
    "    return class_weight"
   ],
   "metadata": {
    "collapsed": false,
    "pycharm": {
     "name": "#%%\n"
    }
   }
  },
  {
   "cell_type": "code",
   "execution_count": 31,
   "outputs": [],
   "source": [
    "labels_dict = {0: 22483, 1: 915}"
   ],
   "metadata": {
    "collapsed": false,
    "pycharm": {
     "name": "#%%\n"
    }
   }
  },
  {
   "cell_type": "code",
   "execution_count": 32,
   "outputs": [
    {
     "data": {
      "text/plain": "{0: 1.0, 1: 1.3443617774461443}"
     },
     "execution_count": 32,
     "metadata": {},
     "output_type": "execute_result"
    }
   ],
   "source": [
    "create_class_weight(labels_dict)"
   ],
   "metadata": {
    "collapsed": false,
    "pycharm": {
     "name": "#%%\n"
    }
   }
  },
  {
   "cell_type": "code",
   "execution_count": 33,
   "outputs": [],
   "source": [
    "labels_dict = {\n",
    "    2: 2262087,\n",
    "    1: 1468136,\n",
    "    3: 195712,\n",
    "    7: 62261,\n",
    "    6: 11426,\n",
    "    4: 377,\n",
    "    5: 1\n",
    "}"
   ],
   "metadata": {
    "collapsed": false,
    "pycharm": {
     "name": "#%%\n"
    }
   }
  },
  {
   "cell_type": "code",
   "execution_count": 34,
   "outputs": [
    {
     "data": {
      "text/plain": "{2: 2262087, 1: 1468136, 3: 195712, 7: 62261, 6: 11426, 4: 377, 5: 1}"
     },
     "execution_count": 34,
     "metadata": {},
     "output_type": "execute_result"
    }
   ],
   "source": [
    "labels_dict"
   ],
   "metadata": {
    "collapsed": false,
    "pycharm": {
     "name": "#%%\n"
    }
   }
  },
  {
   "cell_type": "code",
   "execution_count": 35,
   "outputs": [
    {
     "data": {
      "text/plain": "{2: 1.0,\n 1: 1.0,\n 3: 1.120285464349604,\n 7: 2.2655944286548326,\n 6: 3.9610381949138755,\n 4: 7.372439746750272,\n 5: 13.304684934198283}"
     },
     "execution_count": 35,
     "metadata": {},
     "output_type": "execute_result"
    }
   ],
   "source": [
    "create_class_weight(labels_dict)"
   ],
   "metadata": {
    "collapsed": false,
    "pycharm": {
     "name": "#%%\n"
    }
   }
  },
  {
   "cell_type": "code",
   "execution_count": 36,
   "outputs": [],
   "source": [
    "class_weights = {2: 2262087/4000000, 1: 1468136/4000000, 3: 195712/4000000, 7: 62261/4000000, 6: 11426/4000000, 4: 377/4000000, 5: 1/4000000}"
   ],
   "metadata": {
    "collapsed": false,
    "pycharm": {
     "name": "#%%\n"
    }
   }
  },
  {
   "cell_type": "markdown",
   "source": [
    "### FEATURE SELECTOR"
   ],
   "metadata": {
    "collapsed": false,
    "pycharm": {
     "name": "#%% md\n"
    }
   }
  },
  {
   "cell_type": "code",
   "execution_count": 51,
   "outputs": [],
   "source": [
    "selector = CatBoostClassifier(\n",
    "    #     loss_function=\"CrossEntropy\", # class weights takes effect only with Logloss, MultiClass, MultiClassOneVsAll\n",
    "    loss_function=\"MultiClass\",\n",
    "    eval_metric=\"Accuracy\",\n",
    "    class_weights=class_weights,\n",
    "    one_hot_max_size=31,\n",
    "    depth=6,\n",
    "    iterations= 1000,\n",
    "    l2_leaf_reg= 3,\n",
    "    learning_rate= 0.03,\n",
    "    nan_mode=\"Max\",\n",
    "    cat_features=categorical_features_index\n",
    ")"
   ],
   "metadata": {
    "collapsed": false,
    "pycharm": {
     "name": "#%%\n"
    }
   }
  },
  {
   "cell_type": "code",
   "execution_count": 52,
   "outputs": [],
   "source": [
    "feature_names= X_train.columns.to_list()"
   ],
   "metadata": {
    "collapsed": false,
    "pycharm": {
     "name": "#%%\n"
    }
   }
  },
  {
   "cell_type": "code",
   "execution_count": 53,
   "outputs": [],
   "source": [
    "train_pool = Pool(X_train, y_train, cat_features=categorical_features_index, feature_names=feature_names)\n",
    "#test_pool = Pool(X_test, y_test, cat_features=categorical_features_index, feature_names=feature_names)"
   ],
   "metadata": {
    "collapsed": false,
    "pycharm": {
     "name": "#%%\n"
    }
   }
  },
  {
   "cell_type": "code",
   "execution_count": 54,
   "outputs": [
    {
     "data": {
      "text/plain": "53"
     },
     "execution_count": 54,
     "metadata": {},
     "output_type": "execute_result"
    }
   ],
   "source": [
    "X_test.shape[1]-1"
   ],
   "metadata": {
    "collapsed": false,
    "pycharm": {
     "name": "#%%\n"
    }
   }
  },
  {
   "cell_type": "code",
   "execution_count": 55,
   "outputs": [
    {
     "data": {
      "text/plain": "'0-53'"
     },
     "execution_count": 55,
     "metadata": {},
     "output_type": "execute_result"
    }
   ],
   "source": [
    "'0-' + str(X_test.shape[1]-1)"
   ],
   "metadata": {
    "collapsed": false,
    "pycharm": {
     "name": "#%%\n"
    }
   }
  },
  {
   "cell_type": "code",
   "execution_count": 56,
   "outputs": [
    {
     "data": {
      "text/plain": "MetricVisualizer(layout=Layout(align_self='stretch', height='500px'))",
      "application/vnd.jupyter.widget-view+json": {
       "version_major": 2,
       "version_minor": 0,
       "model_id": "acb3df45e9e148c0bc3bd1ae1ce0e656"
      }
     },
     "metadata": {},
     "output_type": "display_data"
    },
    {
     "name": "stdout",
     "output_type": "stream",
     "text": [
      "Step #1 out of 10\n",
      "0:\tlearn: 0.9445243\ttotal: 2.1s\tremaining: 34m 54s\n",
      "1:\tlearn: 0.9460076\ttotal: 3.87s\tremaining: 32m 8s\n",
      "2:\tlearn: 0.9495158\ttotal: 5.47s\tremaining: 30m 17s\n",
      "3:\tlearn: 0.9489258\ttotal: 7.13s\tremaining: 29m 34s\n",
      "4:\tlearn: 0.9460824\ttotal: 8.89s\tremaining: 29m 28s\n",
      "5:\tlearn: 0.9460039\ttotal: 10.6s\tremaining: 29m 8s\n",
      "6:\tlearn: 0.9465193\ttotal: 12.1s\tremaining: 28m 31s\n"
     ]
    },
    {
     "ename": "KeyboardInterrupt",
     "evalue": "",
     "output_type": "error",
     "traceback": [
      "\u001B[1;31m---------------------------------------------------------------------------\u001B[0m",
      "\u001B[1;31mKeyboardInterrupt\u001B[0m                         Traceback (most recent call last)",
      "\u001B[1;32m~\\AppData\\Local\\Temp/ipykernel_1688/4043182513.py\u001B[0m in \u001B[0;36m<module>\u001B[1;34m\u001B[0m\n\u001B[1;32m----> 1\u001B[1;33m summary = selector.select_features(\n\u001B[0m\u001B[0;32m      2\u001B[0m     \u001B[0mtrain_pool\u001B[0m\u001B[1;33m,\u001B[0m \u001B[1;31m# X_train, y_train\u001B[0m\u001B[1;33m\u001B[0m\u001B[1;33m\u001B[0m\u001B[0m\n\u001B[0;32m      3\u001B[0m     \u001B[1;31m#eval_set=test_pool, # The validation dataset or datasets used for the following processes: overfitting detector, best iteration selection, monitoring metrics changes\u001B[0m\u001B[1;33m\u001B[0m\u001B[1;33m\u001B[0m\u001B[0m\n\u001B[0;32m      4\u001B[0m     \u001B[0mfeatures_for_select\u001B[0m\u001B[1;33m=\u001B[0m\u001B[1;34m'0-'\u001B[0m \u001B[1;33m+\u001B[0m \u001B[0mstr\u001B[0m\u001B[1;33m(\u001B[0m\u001B[0mX_test\u001B[0m\u001B[1;33m.\u001B[0m\u001B[0mshape\u001B[0m\u001B[1;33m[\u001B[0m\u001B[1;36m1\u001B[0m\u001B[1;33m]\u001B[0m\u001B[1;33m-\u001B[0m\u001B[1;36m1\u001B[0m\u001B[1;33m)\u001B[0m\u001B[1;33m,\u001B[0m \u001B[1;31m# Features which participate in the selection.\u001B[0m\u001B[1;33m\u001B[0m\u001B[1;33m\u001B[0m\u001B[0m\n\u001B[0;32m      5\u001B[0m     \u001B[0mnum_features_to_select\u001B[0m\u001B[1;33m=\u001B[0m\u001B[1;36m10\u001B[0m\u001B[1;33m,\u001B[0m \u001B[1;31m# The number of features to select from features_for_select.\u001B[0m\u001B[1;33m\u001B[0m\u001B[1;33m\u001B[0m\u001B[0m\n",
      "\u001B[1;32mC:\\ProgramData\\Anaconda3\\envs\\untitled\\lib\\site-packages\\catboost\\core.py\u001B[0m in \u001B[0;36mselect_features\u001B[1;34m(self, X, y, eval_set, features_for_select, num_features_to_select, algorithm, steps, shap_calc_type, train_final_model, verbose, logging_level, plot, log_cout, log_cerr)\u001B[0m\n\u001B[0;32m   4015\u001B[0m \u001B[1;33m\u001B[0m\u001B[0m\n\u001B[0;32m   4016\u001B[0m         \u001B[1;32mwith\u001B[0m \u001B[0mlog_fixup\u001B[0m\u001B[1;33m(\u001B[0m\u001B[0mlog_cout\u001B[0m\u001B[1;33m,\u001B[0m \u001B[0mlog_cerr\u001B[0m\u001B[1;33m)\u001B[0m\u001B[1;33m,\u001B[0m \u001B[0mplot_wrapper\u001B[0m\u001B[1;33m(\u001B[0m\u001B[0mplot\u001B[0m\u001B[1;33m,\u001B[0m \u001B[0mplot_dirs\u001B[0m\u001B[1;33m)\u001B[0m\u001B[1;33m:\u001B[0m\u001B[1;33m\u001B[0m\u001B[1;33m\u001B[0m\u001B[0m\n\u001B[1;32m-> 4017\u001B[1;33m             \u001B[0msummary\u001B[0m \u001B[1;33m=\u001B[0m \u001B[0mself\u001B[0m\u001B[1;33m.\u001B[0m\u001B[0m_object\u001B[0m\u001B[1;33m.\u001B[0m\u001B[0m_select_features\u001B[0m\u001B[1;33m(\u001B[0m\u001B[0mtrain_pool\u001B[0m\u001B[1;33m,\u001B[0m \u001B[0mtest_pool\u001B[0m\u001B[1;33m,\u001B[0m \u001B[0mparams\u001B[0m\u001B[1;33m)\u001B[0m\u001B[1;33m\u001B[0m\u001B[1;33m\u001B[0m\u001B[0m\n\u001B[0m\u001B[0;32m   4018\u001B[0m \u001B[1;33m\u001B[0m\u001B[0m\n\u001B[0;32m   4019\u001B[0m         \u001B[1;32mif\u001B[0m \u001B[0mtrain_final_model\u001B[0m\u001B[1;33m:\u001B[0m\u001B[1;33m\u001B[0m\u001B[1;33m\u001B[0m\u001B[0m\n",
      "\u001B[1;32m_catboost.pyx\u001B[0m in \u001B[0;36m_catboost._CatBoost._select_features\u001B[1;34m()\u001B[0m\n",
      "\u001B[1;32m_catboost.pyx\u001B[0m in \u001B[0;36m_catboost._CatBoost._select_features\u001B[1;34m()\u001B[0m\n",
      "\u001B[1;31mKeyboardInterrupt\u001B[0m: "
     ]
    }
   ],
   "source": [
    "summary = selector.select_features(\n",
    "    train_pool, # X_train, y_train\n",
    "    #eval_set=test_pool, # The validation dataset or datasets used for the following processes: overfitting detector, best iteration selection, monitoring metrics changes\n",
    "    features_for_select='0-' + str(X_test.shape[1]-1), # Features which participate in the selection.\n",
    "    num_features_to_select=10, # The number of features to select from features_for_select.\n",
    "    steps=10, # The number of times for training the model. Use more steps for more accurate selection\n",
    "    algorithm=EFeaturesSelectionAlgorithm.RecursiveByShapValues, # the most accurate method\n",
    "    shap_calc_type=EShapCalcType.Exact, # The method of the SHAP values calculations ordered by accuracy: Approximate, Regular, Exact\n",
    "    train_final_model=True, # If specified, then the model with selected features will be trained after features selection.\n",
    "    #logging_level='Silent', # optimized metric, elapsed time of training, remaining time of training\n",
    "    plot=True\n",
    ")"
   ],
   "metadata": {
    "collapsed": false,
    "pycharm": {
     "name": "#%%\n"
    }
   }
  },
  {
   "cell_type": "code",
   "execution_count": null,
   "outputs": [],
   "source": [],
   "metadata": {
    "collapsed": false,
    "pycharm": {
     "name": "#%%\n"
    }
   }
  }
 ],
 "metadata": {
  "kernelspec": {
   "display_name": "Python 3",
   "language": "python",
   "name": "python3"
  },
  "language_info": {
   "codemirror_mode": {
    "name": "ipython",
    "version": 2
   },
   "file_extension": ".py",
   "mimetype": "text/x-python",
   "name": "python",
   "nbconvert_exporter": "python",
   "pygments_lexer": "ipython2",
   "version": "2.7.6"
  }
 },
 "nbformat": 4,
 "nbformat_minor": 0
}