{
 "cells": [
  {
   "cell_type": "code",
   "execution_count": 1,
   "metadata": {
    "pycharm": {
     "name": "#%%\n"
    }
   },
   "outputs": [],
   "source": [
    "import warnings\n",
    "warnings.filterwarnings('ignore')"
   ]
  },
  {
   "cell_type": "code",
   "execution_count": 2,
   "metadata": {
    "pycharm": {
     "name": "#%%\n"
    }
   },
   "outputs": [],
   "source": [
    "import os\n",
    "import sys\n",
    "sys.path.insert(0, \"C:\\\\Users\\\\KonuTech\\\\DataSpellProjects\\\\kaggle-tabular-playground-series-dec-2021\\\\scripts\")\n",
    "import json\n",
    "import numpy as np\n",
    "import pandas as pd\n",
    "import math"
   ]
  },
  {
   "cell_type": "code",
   "execution_count": 3,
   "metadata": {
    "pycharm": {
     "name": "#%%\n"
    }
   },
   "outputs": [],
   "source": [
    "from catboost import CatBoostClassifier, Pool, EShapCalcType, EFeaturesSelectionAlgorithm"
   ]
  },
  {
   "cell_type": "code",
   "execution_count": 4,
   "metadata": {
    "pycharm": {
     "name": "#%%\n"
    }
   },
   "outputs": [],
   "source": [
    "! python scripts\\unzip.py inputs\\tabular-playground-series-dec-2021.zip"
   ]
  },
  {
   "cell_type": "code",
   "execution_count": 5,
   "metadata": {
    "pycharm": {
     "name": "#%%\n"
    }
   },
   "outputs": [],
   "source": [
    "CURRENT_WORKING_DIRECTORY = os.getcwd()"
   ]
  },
  {
   "cell_type": "code",
   "execution_count": 6,
   "metadata": {
    "pycharm": {
     "name": "#%%\n"
    }
   },
   "outputs": [],
   "source": [
    "INPUTS = CURRENT_WORKING_DIRECTORY + \"\\\\INPUTS\"\n",
    "SCRIPTS = CURRENT_WORKING_DIRECTORY + \"\\\\SCRIPTS\""
   ]
  },
  {
   "cell_type": "code",
   "execution_count": 7,
   "metadata": {
    "pycharm": {
     "name": "#%%\n"
    }
   },
   "outputs": [],
   "source": [
    "CONFIG_FILE = \"config.json\"\n",
    "with open(CURRENT_WORKING_DIRECTORY + \"\\\\\" + CONFIG_FILE, encoding='utf-8') as f:\n",
    "    CONFIG = json.load(f)"
   ]
  },
  {
   "cell_type": "code",
   "execution_count": 8,
   "metadata": {
    "pycharm": {
     "name": "#%%\n"
    }
   },
   "outputs": [],
   "source": [
    "TRAIN_PATH = CONFIG[\"INPUTS\"][\"TRAIN_PATH\"][0]\n",
    "TEST_PATH = CONFIG[\"INPUTS\"][\"TEST_PATH\"][0]\n",
    "TARGET = CONFIG[\"INPUTS\"][\"TARGET\"]\n",
    "INDEX_COL = CONFIG[\"INPUTS\"][\"INDEX_COLUMNS\"]\n",
    "SEP = CONFIG[\"INPUTS\"][\"SEPARATOR\"]\n",
    "DECIMAL = CONFIG[\"INPUTS\"][\"DECIMAL\"]\n",
    "ENCODING = CONFIG[\"INPUTS\"][\"ENCODING\"]\n",
    "DATE_COLUMNS = CONFIG[\"INPUTS\"][\"DATE_COLUMNS\"]\n",
    "FLOAT_PRECISION = CONFIG[\"INPUTS\"][\"FLOAT_PRECISION\"]\n",
    "DTYPE = CONFIG[\"INPUTS\"][\"DTYPE\"]\n",
    "COLUMNS_WITH_NAN_VALUES = CONFIG[\"INPUTS\"][\"COLUMNS_WITH_NAN_VALUES\"]"
   ]
  },
  {
   "cell_type": "code",
   "execution_count": 9,
   "metadata": {
    "pycharm": {
     "name": "#%%\n"
    }
   },
   "outputs": [
    {
     "data": {
      "text/plain": [
       "'Cover_Type'"
      ]
     },
     "execution_count": 9,
     "metadata": {},
     "output_type": "execute_result"
    }
   ],
   "source": [
    "TARGET"
   ]
  },
  {
   "cell_type": "markdown",
   "metadata": {
    "pycharm": {
     "name": "#%% md\n"
    }
   },
   "source": [
    "# TRAIN OVERVIEW"
   ]
  },
  {
   "cell_type": "code",
   "execution_count": 10,
   "metadata": {
    "pycharm": {
     "name": "#%%\n"
    }
   },
   "outputs": [],
   "source": [
    "train = pd.read_csv(\n",
    "    INPUTS + \"\\\\\" + TRAIN_PATH,\n",
    "    index_col=INDEX_COL,\n",
    "    sep=SEP,\n",
    "    encoding=ENCODING,\n",
    "    infer_datetime_format=True,\n",
    "    engine=\"c\",\n",
    "    low_memory=False,\n",
    "    # dtype=DTYPE\n",
    ")"
   ]
  },
  {
   "cell_type": "code",
   "execution_count": 11,
   "metadata": {
    "pycharm": {
     "name": "#%%\n"
    }
   },
   "outputs": [
    {
     "name": "stdout",
     "output_type": "stream",
     "text": [
      "<class 'pandas.core.frame.DataFrame'>\n",
      "Int64Index: 4000000 entries, 0 to 3999999\n",
      "Data columns (total 55 columns):\n",
      " #   Column                              Dtype\n",
      "---  ------                              -----\n",
      " 0   Elevation                           int64\n",
      " 1   Aspect                              int64\n",
      " 2   Slope                               int64\n",
      " 3   Horizontal_Distance_To_Hydrology    int64\n",
      " 4   Vertical_Distance_To_Hydrology      int64\n",
      " 5   Horizontal_Distance_To_Roadways     int64\n",
      " 6   Hillshade_9am                       int64\n",
      " 7   Hillshade_Noon                      int64\n",
      " 8   Hillshade_3pm                       int64\n",
      " 9   Horizontal_Distance_To_Fire_Points  int64\n",
      " 10  Wilderness_Area1                    int64\n",
      " 11  Wilderness_Area2                    int64\n",
      " 12  Wilderness_Area3                    int64\n",
      " 13  Wilderness_Area4                    int64\n",
      " 14  Soil_Type1                          int64\n",
      " 15  Soil_Type2                          int64\n",
      " 16  Soil_Type3                          int64\n",
      " 17  Soil_Type4                          int64\n",
      " 18  Soil_Type5                          int64\n",
      " 19  Soil_Type6                          int64\n",
      " 20  Soil_Type7                          int64\n",
      " 21  Soil_Type8                          int64\n",
      " 22  Soil_Type9                          int64\n",
      " 23  Soil_Type10                         int64\n",
      " 24  Soil_Type11                         int64\n",
      " 25  Soil_Type12                         int64\n",
      " 26  Soil_Type13                         int64\n",
      " 27  Soil_Type14                         int64\n",
      " 28  Soil_Type15                         int64\n",
      " 29  Soil_Type16                         int64\n",
      " 30  Soil_Type17                         int64\n",
      " 31  Soil_Type18                         int64\n",
      " 32  Soil_Type19                         int64\n",
      " 33  Soil_Type20                         int64\n",
      " 34  Soil_Type21                         int64\n",
      " 35  Soil_Type22                         int64\n",
      " 36  Soil_Type23                         int64\n",
      " 37  Soil_Type24                         int64\n",
      " 38  Soil_Type25                         int64\n",
      " 39  Soil_Type26                         int64\n",
      " 40  Soil_Type27                         int64\n",
      " 41  Soil_Type28                         int64\n",
      " 42  Soil_Type29                         int64\n",
      " 43  Soil_Type30                         int64\n",
      " 44  Soil_Type31                         int64\n",
      " 45  Soil_Type32                         int64\n",
      " 46  Soil_Type33                         int64\n",
      " 47  Soil_Type34                         int64\n",
      " 48  Soil_Type35                         int64\n",
      " 49  Soil_Type36                         int64\n",
      " 50  Soil_Type37                         int64\n",
      " 51  Soil_Type38                         int64\n",
      " 52  Soil_Type39                         int64\n",
      " 53  Soil_Type40                         int64\n",
      " 54  Cover_Type                          int64\n",
      "dtypes: int64(55)\n",
      "memory usage: 1.7 GB\n"
     ]
    }
   ],
   "source": [
    "train.info()"
   ]
  },
  {
   "cell_type": "code",
   "execution_count": 12,
   "metadata": {
    "pycharm": {
     "name": "#%%\n"
    }
   },
   "outputs": [
    {
     "data": {
      "text/plain": [
       "2    2262087\n",
       "1    1468136\n",
       "3     195712\n",
       "7      62261\n",
       "6      11426\n",
       "4        377\n",
       "5          1\n",
       "Name: Cover_Type, dtype: int64"
      ]
     },
     "execution_count": 12,
     "metadata": {},
     "output_type": "execute_result"
    }
   ],
   "source": [
    "train[TARGET].value_counts()"
   ]
  },
  {
   "cell_type": "code",
   "execution_count": 13,
   "metadata": {
    "pycharm": {
     "name": "#%%\n"
    }
   },
   "outputs": [
    {
     "data": {
      "text/plain": [
       "Index(['Elevation', 'Aspect', 'Slope', 'Horizontal_Distance_To_Hydrology',\n",
       "       'Vertical_Distance_To_Hydrology', 'Horizontal_Distance_To_Roadways',\n",
       "       'Hillshade_9am', 'Hillshade_Noon', 'Hillshade_3pm',\n",
       "       'Horizontal_Distance_To_Fire_Points', 'Wilderness_Area1',\n",
       "       'Wilderness_Area2', 'Wilderness_Area3', 'Wilderness_Area4',\n",
       "       'Soil_Type1', 'Soil_Type2', 'Soil_Type3', 'Soil_Type4', 'Soil_Type5',\n",
       "       'Soil_Type6', 'Soil_Type7', 'Soil_Type8', 'Soil_Type9', 'Soil_Type10',\n",
       "       'Soil_Type11', 'Soil_Type12', 'Soil_Type13', 'Soil_Type14',\n",
       "       'Soil_Type15', 'Soil_Type16', 'Soil_Type17', 'Soil_Type18',\n",
       "       'Soil_Type19', 'Soil_Type20', 'Soil_Type21', 'Soil_Type22',\n",
       "       'Soil_Type23', 'Soil_Type24', 'Soil_Type25', 'Soil_Type26',\n",
       "       'Soil_Type27', 'Soil_Type28', 'Soil_Type29', 'Soil_Type30',\n",
       "       'Soil_Type31', 'Soil_Type32', 'Soil_Type33', 'Soil_Type34',\n",
       "       'Soil_Type35', 'Soil_Type36', 'Soil_Type37', 'Soil_Type38',\n",
       "       'Soil_Type39', 'Soil_Type40'],\n",
       "      dtype='object')"
      ]
     },
     "execution_count": 13,
     "metadata": {},
     "output_type": "execute_result"
    }
   ],
   "source": [
    "TRAIN_NUMERIC_COLUMNS = train.select_dtypes(include=[\"float64\", \"int64\"]).columns\n",
    "TRAIN_NUMERIC_COLUMNS = TRAIN_NUMERIC_COLUMNS.drop(TARGET)\n",
    "TRAIN_NUMERIC_COLUMNS"
   ]
  },
  {
   "cell_type": "code",
   "execution_count": 14,
   "metadata": {
    "pycharm": {
     "name": "#%%\n"
    }
   },
   "outputs": [
    {
     "data": {
      "text/plain": [
       "Index([], dtype='object')"
      ]
     },
     "execution_count": 14,
     "metadata": {},
     "output_type": "execute_result"
    }
   ],
   "source": [
    "TRAIN_OBJECT_COLUMNS = train.select_dtypes(include=[\"object\"]).columns\n",
    "TRAIN_OBJECT_COLUMNS"
   ]
  },
  {
   "cell_type": "markdown",
   "metadata": {
    "pycharm": {
     "name": "#%% md\n"
    }
   },
   "source": [
    "# TEST OVERVIEW"
   ]
  },
  {
   "cell_type": "code",
   "execution_count": 15,
   "metadata": {
    "pycharm": {
     "name": "#%%\n"
    }
   },
   "outputs": [],
   "source": [
    "test = pd.read_csv(\n",
    "    INPUTS + \"\\\\\" + TEST_PATH,\n",
    "    index_col=INDEX_COL,\n",
    "    sep=SEP,\n",
    "    encoding=ENCODING,\n",
    "    infer_datetime_format=True,\n",
    "    engine=\"c\",\n",
    "    low_memory=False,\n",
    "    # dtype=DTYPE\n",
    ")"
   ]
  },
  {
   "cell_type": "code",
   "execution_count": 16,
   "metadata": {
    "pycharm": {
     "name": "#%%\n"
    }
   },
   "outputs": [
    {
     "name": "stdout",
     "output_type": "stream",
     "text": [
      "<class 'pandas.core.frame.DataFrame'>\n",
      "Int64Index: 1000000 entries, 4000000 to 4999999\n",
      "Data columns (total 54 columns):\n",
      " #   Column                              Non-Null Count    Dtype\n",
      "---  ------                              --------------    -----\n",
      " 0   Elevation                           1000000 non-null  int64\n",
      " 1   Aspect                              1000000 non-null  int64\n",
      " 2   Slope                               1000000 non-null  int64\n",
      " 3   Horizontal_Distance_To_Hydrology    1000000 non-null  int64\n",
      " 4   Vertical_Distance_To_Hydrology      1000000 non-null  int64\n",
      " 5   Horizontal_Distance_To_Roadways     1000000 non-null  int64\n",
      " 6   Hillshade_9am                       1000000 non-null  int64\n",
      " 7   Hillshade_Noon                      1000000 non-null  int64\n",
      " 8   Hillshade_3pm                       1000000 non-null  int64\n",
      " 9   Horizontal_Distance_To_Fire_Points  1000000 non-null  int64\n",
      " 10  Wilderness_Area1                    1000000 non-null  int64\n",
      " 11  Wilderness_Area2                    1000000 non-null  int64\n",
      " 12  Wilderness_Area3                    1000000 non-null  int64\n",
      " 13  Wilderness_Area4                    1000000 non-null  int64\n",
      " 14  Soil_Type1                          1000000 non-null  int64\n",
      " 15  Soil_Type2                          1000000 non-null  int64\n",
      " 16  Soil_Type3                          1000000 non-null  int64\n",
      " 17  Soil_Type4                          1000000 non-null  int64\n",
      " 18  Soil_Type5                          1000000 non-null  int64\n",
      " 19  Soil_Type6                          1000000 non-null  int64\n",
      " 20  Soil_Type7                          1000000 non-null  int64\n",
      " 21  Soil_Type8                          1000000 non-null  int64\n",
      " 22  Soil_Type9                          1000000 non-null  int64\n",
      " 23  Soil_Type10                         1000000 non-null  int64\n",
      " 24  Soil_Type11                         1000000 non-null  int64\n",
      " 25  Soil_Type12                         1000000 non-null  int64\n",
      " 26  Soil_Type13                         1000000 non-null  int64\n",
      " 27  Soil_Type14                         1000000 non-null  int64\n",
      " 28  Soil_Type15                         1000000 non-null  int64\n",
      " 29  Soil_Type16                         1000000 non-null  int64\n",
      " 30  Soil_Type17                         1000000 non-null  int64\n",
      " 31  Soil_Type18                         1000000 non-null  int64\n",
      " 32  Soil_Type19                         1000000 non-null  int64\n",
      " 33  Soil_Type20                         1000000 non-null  int64\n",
      " 34  Soil_Type21                         1000000 non-null  int64\n",
      " 35  Soil_Type22                         1000000 non-null  int64\n",
      " 36  Soil_Type23                         1000000 non-null  int64\n",
      " 37  Soil_Type24                         1000000 non-null  int64\n",
      " 38  Soil_Type25                         1000000 non-null  int64\n",
      " 39  Soil_Type26                         1000000 non-null  int64\n",
      " 40  Soil_Type27                         1000000 non-null  int64\n",
      " 41  Soil_Type28                         1000000 non-null  int64\n",
      " 42  Soil_Type29                         1000000 non-null  int64\n",
      " 43  Soil_Type30                         1000000 non-null  int64\n",
      " 44  Soil_Type31                         1000000 non-null  int64\n",
      " 45  Soil_Type32                         1000000 non-null  int64\n",
      " 46  Soil_Type33                         1000000 non-null  int64\n",
      " 47  Soil_Type34                         1000000 non-null  int64\n",
      " 48  Soil_Type35                         1000000 non-null  int64\n",
      " 49  Soil_Type36                         1000000 non-null  int64\n",
      " 50  Soil_Type37                         1000000 non-null  int64\n",
      " 51  Soil_Type38                         1000000 non-null  int64\n",
      " 52  Soil_Type39                         1000000 non-null  int64\n",
      " 53  Soil_Type40                         1000000 non-null  int64\n",
      "dtypes: int64(54)\n",
      "memory usage: 419.6 MB\n"
     ]
    }
   ],
   "source": [
    "test.info()"
   ]
  },
  {
   "cell_type": "code",
   "execution_count": 17,
   "metadata": {
    "pycharm": {
     "name": "#%%\n"
    }
   },
   "outputs": [
    {
     "data": {
      "text/plain": [
       "Index(['Elevation', 'Aspect', 'Slope', 'Horizontal_Distance_To_Hydrology',\n",
       "       'Vertical_Distance_To_Hydrology', 'Horizontal_Distance_To_Roadways',\n",
       "       'Hillshade_9am', 'Hillshade_Noon', 'Hillshade_3pm',\n",
       "       'Horizontal_Distance_To_Fire_Points', 'Wilderness_Area1',\n",
       "       'Wilderness_Area2', 'Wilderness_Area3', 'Wilderness_Area4',\n",
       "       'Soil_Type1', 'Soil_Type2', 'Soil_Type3', 'Soil_Type4', 'Soil_Type5',\n",
       "       'Soil_Type6', 'Soil_Type7', 'Soil_Type8', 'Soil_Type9', 'Soil_Type10',\n",
       "       'Soil_Type11', 'Soil_Type12', 'Soil_Type13', 'Soil_Type14',\n",
       "       'Soil_Type15', 'Soil_Type16', 'Soil_Type17', 'Soil_Type18',\n",
       "       'Soil_Type19', 'Soil_Type20', 'Soil_Type21', 'Soil_Type22',\n",
       "       'Soil_Type23', 'Soil_Type24', 'Soil_Type25', 'Soil_Type26',\n",
       "       'Soil_Type27', 'Soil_Type28', 'Soil_Type29', 'Soil_Type30',\n",
       "       'Soil_Type31', 'Soil_Type32', 'Soil_Type33', 'Soil_Type34',\n",
       "       'Soil_Type35', 'Soil_Type36', 'Soil_Type37', 'Soil_Type38',\n",
       "       'Soil_Type39', 'Soil_Type40'],\n",
       "      dtype='object')"
      ]
     },
     "execution_count": 17,
     "metadata": {},
     "output_type": "execute_result"
    }
   ],
   "source": [
    "TEST_NUMERIC_COLUMNS = test.select_dtypes(include=[\"float64\", \"int64\"]).columns\n",
    "TEST_NUMERIC_COLUMNS"
   ]
  },
  {
   "cell_type": "code",
   "execution_count": 18,
   "metadata": {
    "pycharm": {
     "name": "#%%\n"
    }
   },
   "outputs": [
    {
     "data": {
      "text/plain": [
       "Index([], dtype='object')"
      ]
     },
     "execution_count": 18,
     "metadata": {},
     "output_type": "execute_result"
    }
   ],
   "source": [
    "TEST_OBJECT_COLUMNS = test.select_dtypes(include=[\"object\"]).columns\n",
    "TEST_OBJECT_COLUMNS"
   ]
  },
  {
   "cell_type": "markdown",
   "metadata": {
    "pycharm": {
     "name": "#%% md\n"
    }
   },
   "source": [
    "# FEATURES AND TARGET"
   ]
  },
  {
   "cell_type": "code",
   "execution_count": 19,
   "metadata": {
    "pycharm": {
     "name": "#%%\n"
    }
   },
   "outputs": [],
   "source": [
    "features = [col for col in train.columns if col not in [TARGET]]"
   ]
  },
  {
   "cell_type": "code",
   "execution_count": 20,
   "metadata": {
    "pycharm": {
     "name": "#%%\n"
    }
   },
   "outputs": [],
   "source": [
    "X_train = train[features]"
   ]
  },
  {
   "cell_type": "code",
   "execution_count": 21,
   "metadata": {
    "pycharm": {
     "name": "#%%\n"
    }
   },
   "outputs": [
    {
     "data": {
      "text/html": [
       "<div>\n",
       "<style scoped>\n",
       "    .dataframe tbody tr th:only-of-type {\n",
       "        vertical-align: middle;\n",
       "    }\n",
       "\n",
       "    .dataframe tbody tr th {\n",
       "        vertical-align: top;\n",
       "    }\n",
       "\n",
       "    .dataframe thead th {\n",
       "        text-align: right;\n",
       "    }\n",
       "</style>\n",
       "<table border=\"1\" class=\"dataframe\">\n",
       "  <thead>\n",
       "    <tr style=\"text-align: right;\">\n",
       "      <th></th>\n",
       "      <th>Elevation</th>\n",
       "      <th>Aspect</th>\n",
       "      <th>Slope</th>\n",
       "      <th>Horizontal_Distance_To_Hydrology</th>\n",
       "      <th>Vertical_Distance_To_Hydrology</th>\n",
       "      <th>Horizontal_Distance_To_Roadways</th>\n",
       "      <th>Hillshade_9am</th>\n",
       "      <th>Hillshade_Noon</th>\n",
       "      <th>Hillshade_3pm</th>\n",
       "      <th>Horizontal_Distance_To_Fire_Points</th>\n",
       "      <th>...</th>\n",
       "      <th>Soil_Type31</th>\n",
       "      <th>Soil_Type32</th>\n",
       "      <th>Soil_Type33</th>\n",
       "      <th>Soil_Type34</th>\n",
       "      <th>Soil_Type35</th>\n",
       "      <th>Soil_Type36</th>\n",
       "      <th>Soil_Type37</th>\n",
       "      <th>Soil_Type38</th>\n",
       "      <th>Soil_Type39</th>\n",
       "      <th>Soil_Type40</th>\n",
       "    </tr>\n",
       "    <tr>\n",
       "      <th>Id</th>\n",
       "      <th></th>\n",
       "      <th></th>\n",
       "      <th></th>\n",
       "      <th></th>\n",
       "      <th></th>\n",
       "      <th></th>\n",
       "      <th></th>\n",
       "      <th></th>\n",
       "      <th></th>\n",
       "      <th></th>\n",
       "      <th></th>\n",
       "      <th></th>\n",
       "      <th></th>\n",
       "      <th></th>\n",
       "      <th></th>\n",
       "      <th></th>\n",
       "      <th></th>\n",
       "      <th></th>\n",
       "      <th></th>\n",
       "      <th></th>\n",
       "      <th></th>\n",
       "    </tr>\n",
       "  </thead>\n",
       "  <tbody>\n",
       "    <tr>\n",
       "      <th>2349063</th>\n",
       "      <td>2844</td>\n",
       "      <td>116</td>\n",
       "      <td>36</td>\n",
       "      <td>409</td>\n",
       "      <td>21</td>\n",
       "      <td>1135</td>\n",
       "      <td>185</td>\n",
       "      <td>223</td>\n",
       "      <td>70</td>\n",
       "      <td>1070</td>\n",
       "      <td>...</td>\n",
       "      <td>0</td>\n",
       "      <td>0</td>\n",
       "      <td>0</td>\n",
       "      <td>0</td>\n",
       "      <td>0</td>\n",
       "      <td>0</td>\n",
       "      <td>0</td>\n",
       "      <td>1</td>\n",
       "      <td>0</td>\n",
       "      <td>0</td>\n",
       "    </tr>\n",
       "    <tr>\n",
       "      <th>3365312</th>\n",
       "      <td>3198</td>\n",
       "      <td>104</td>\n",
       "      <td>21</td>\n",
       "      <td>86</td>\n",
       "      <td>70</td>\n",
       "      <td>259</td>\n",
       "      <td>233</td>\n",
       "      <td>250</td>\n",
       "      <td>91</td>\n",
       "      <td>1298</td>\n",
       "      <td>...</td>\n",
       "      <td>0</td>\n",
       "      <td>0</td>\n",
       "      <td>0</td>\n",
       "      <td>0</td>\n",
       "      <td>0</td>\n",
       "      <td>0</td>\n",
       "      <td>0</td>\n",
       "      <td>0</td>\n",
       "      <td>0</td>\n",
       "      <td>0</td>\n",
       "    </tr>\n",
       "  </tbody>\n",
       "</table>\n",
       "<p>2 rows × 54 columns</p>\n",
       "</div>"
      ],
      "text/plain": [
       "         Elevation  Aspect  Slope  Horizontal_Distance_To_Hydrology  \\\n",
       "Id                                                                    \n",
       "2349063       2844     116     36                               409   \n",
       "3365312       3198     104     21                                86   \n",
       "\n",
       "         Vertical_Distance_To_Hydrology  Horizontal_Distance_To_Roadways  \\\n",
       "Id                                                                         \n",
       "2349063                              21                             1135   \n",
       "3365312                              70                              259   \n",
       "\n",
       "         Hillshade_9am  Hillshade_Noon  Hillshade_3pm  \\\n",
       "Id                                                      \n",
       "2349063            185             223             70   \n",
       "3365312            233             250             91   \n",
       "\n",
       "         Horizontal_Distance_To_Fire_Points  ...  Soil_Type31  Soil_Type32  \\\n",
       "Id                                           ...                             \n",
       "2349063                                1070  ...            0            0   \n",
       "3365312                                1298  ...            0            0   \n",
       "\n",
       "         Soil_Type33  Soil_Type34  Soil_Type35  Soil_Type36  Soil_Type37  \\\n",
       "Id                                                                         \n",
       "2349063            0            0            0            0            0   \n",
       "3365312            0            0            0            0            0   \n",
       "\n",
       "         Soil_Type38  Soil_Type39  Soil_Type40  \n",
       "Id                                              \n",
       "2349063            1            0            0  \n",
       "3365312            0            0            0  \n",
       "\n",
       "[2 rows x 54 columns]"
      ]
     },
     "execution_count": 21,
     "metadata": {},
     "output_type": "execute_result"
    }
   ],
   "source": [
    "X_train.sample(2)"
   ]
  },
  {
   "cell_type": "code",
   "execution_count": 22,
   "metadata": {
    "pycharm": {
     "name": "#%%\n"
    }
   },
   "outputs": [],
   "source": [
    "y_train = train[TARGET]"
   ]
  },
  {
   "cell_type": "code",
   "execution_count": 23,
   "metadata": {
    "pycharm": {
     "name": "#%%\n"
    }
   },
   "outputs": [
    {
     "data": {
      "text/plain": [
       "2    2262087\n",
       "1    1468136\n",
       "3     195712\n",
       "7      62261\n",
       "6      11426\n",
       "4        377\n",
       "5          1\n",
       "Name: Cover_Type, dtype: int64"
      ]
     },
     "execution_count": 23,
     "metadata": {},
     "output_type": "execute_result"
    }
   ],
   "source": [
    "y_train.value_counts()"
   ]
  },
  {
   "cell_type": "code",
   "execution_count": 24,
   "metadata": {
    "pycharm": {
     "name": "#%%\n"
    }
   },
   "outputs": [],
   "source": [
    "X_test = test[features]"
   ]
  },
  {
   "cell_type": "code",
   "execution_count": 25,
   "metadata": {
    "pycharm": {
     "name": "#%%\n"
    }
   },
   "outputs": [
    {
     "data": {
      "text/html": [
       "<div>\n",
       "<style scoped>\n",
       "    .dataframe tbody tr th:only-of-type {\n",
       "        vertical-align: middle;\n",
       "    }\n",
       "\n",
       "    .dataframe tbody tr th {\n",
       "        vertical-align: top;\n",
       "    }\n",
       "\n",
       "    .dataframe thead th {\n",
       "        text-align: right;\n",
       "    }\n",
       "</style>\n",
       "<table border=\"1\" class=\"dataframe\">\n",
       "  <thead>\n",
       "    <tr style=\"text-align: right;\">\n",
       "      <th></th>\n",
       "      <th>Elevation</th>\n",
       "      <th>Aspect</th>\n",
       "      <th>Slope</th>\n",
       "      <th>Horizontal_Distance_To_Hydrology</th>\n",
       "      <th>Vertical_Distance_To_Hydrology</th>\n",
       "      <th>Horizontal_Distance_To_Roadways</th>\n",
       "      <th>Hillshade_9am</th>\n",
       "      <th>Hillshade_Noon</th>\n",
       "      <th>Hillshade_3pm</th>\n",
       "      <th>Horizontal_Distance_To_Fire_Points</th>\n",
       "      <th>...</th>\n",
       "      <th>Soil_Type31</th>\n",
       "      <th>Soil_Type32</th>\n",
       "      <th>Soil_Type33</th>\n",
       "      <th>Soil_Type34</th>\n",
       "      <th>Soil_Type35</th>\n",
       "      <th>Soil_Type36</th>\n",
       "      <th>Soil_Type37</th>\n",
       "      <th>Soil_Type38</th>\n",
       "      <th>Soil_Type39</th>\n",
       "      <th>Soil_Type40</th>\n",
       "    </tr>\n",
       "    <tr>\n",
       "      <th>Id</th>\n",
       "      <th></th>\n",
       "      <th></th>\n",
       "      <th></th>\n",
       "      <th></th>\n",
       "      <th></th>\n",
       "      <th></th>\n",
       "      <th></th>\n",
       "      <th></th>\n",
       "      <th></th>\n",
       "      <th></th>\n",
       "      <th></th>\n",
       "      <th></th>\n",
       "      <th></th>\n",
       "      <th></th>\n",
       "      <th></th>\n",
       "      <th></th>\n",
       "      <th></th>\n",
       "      <th></th>\n",
       "      <th></th>\n",
       "      <th></th>\n",
       "      <th></th>\n",
       "    </tr>\n",
       "  </thead>\n",
       "  <tbody>\n",
       "    <tr>\n",
       "      <th>4720318</th>\n",
       "      <td>3295</td>\n",
       "      <td>319</td>\n",
       "      <td>2</td>\n",
       "      <td>123</td>\n",
       "      <td>24</td>\n",
       "      <td>4646</td>\n",
       "      <td>221</td>\n",
       "      <td>250</td>\n",
       "      <td>120</td>\n",
       "      <td>513</td>\n",
       "      <td>...</td>\n",
       "      <td>0</td>\n",
       "      <td>0</td>\n",
       "      <td>0</td>\n",
       "      <td>0</td>\n",
       "      <td>0</td>\n",
       "      <td>0</td>\n",
       "      <td>0</td>\n",
       "      <td>0</td>\n",
       "      <td>0</td>\n",
       "      <td>0</td>\n",
       "    </tr>\n",
       "    <tr>\n",
       "      <th>4156504</th>\n",
       "      <td>2753</td>\n",
       "      <td>-2</td>\n",
       "      <td>4</td>\n",
       "      <td>317</td>\n",
       "      <td>14</td>\n",
       "      <td>1224</td>\n",
       "      <td>199</td>\n",
       "      <td>214</td>\n",
       "      <td>102</td>\n",
       "      <td>841</td>\n",
       "      <td>...</td>\n",
       "      <td>0</td>\n",
       "      <td>0</td>\n",
       "      <td>0</td>\n",
       "      <td>0</td>\n",
       "      <td>0</td>\n",
       "      <td>0</td>\n",
       "      <td>1</td>\n",
       "      <td>0</td>\n",
       "      <td>0</td>\n",
       "      <td>0</td>\n",
       "    </tr>\n",
       "  </tbody>\n",
       "</table>\n",
       "<p>2 rows × 54 columns</p>\n",
       "</div>"
      ],
      "text/plain": [
       "         Elevation  Aspect  Slope  Horizontal_Distance_To_Hydrology  \\\n",
       "Id                                                                    \n",
       "4720318       3295     319      2                               123   \n",
       "4156504       2753      -2      4                               317   \n",
       "\n",
       "         Vertical_Distance_To_Hydrology  Horizontal_Distance_To_Roadways  \\\n",
       "Id                                                                         \n",
       "4720318                              24                             4646   \n",
       "4156504                              14                             1224   \n",
       "\n",
       "         Hillshade_9am  Hillshade_Noon  Hillshade_3pm  \\\n",
       "Id                                                      \n",
       "4720318            221             250            120   \n",
       "4156504            199             214            102   \n",
       "\n",
       "         Horizontal_Distance_To_Fire_Points  ...  Soil_Type31  Soil_Type32  \\\n",
       "Id                                           ...                             \n",
       "4720318                                 513  ...            0            0   \n",
       "4156504                                 841  ...            0            0   \n",
       "\n",
       "         Soil_Type33  Soil_Type34  Soil_Type35  Soil_Type36  Soil_Type37  \\\n",
       "Id                                                                         \n",
       "4720318            0            0            0            0            0   \n",
       "4156504            0            0            0            0            1   \n",
       "\n",
       "         Soil_Type38  Soil_Type39  Soil_Type40  \n",
       "Id                                              \n",
       "4720318            0            0            0  \n",
       "4156504            0            0            0  \n",
       "\n",
       "[2 rows x 54 columns]"
      ]
     },
     "execution_count": 25,
     "metadata": {},
     "output_type": "execute_result"
    }
   ],
   "source": [
    "X_test.sample(2)"
   ]
  },
  {
   "cell_type": "code",
   "execution_count": 26,
   "metadata": {
    "pycharm": {
     "name": "#%%\n"
    }
   },
   "outputs": [
    {
     "name": "stdout",
     "output_type": "stream",
     "text": [
      " X_train shape:  (4000000, 54) \n",
      " y_train shape:  (4000000,) \n",
      " X_test  shape:  (1000000, 54) \n",
      " y_test  shape:  None\n"
     ]
    }
   ],
   "source": [
    "print(\" X_train shape: \", X_train.shape, \"\\n\", \"y_train shape: \", y_train.shape, \"\\n\", \"X_test  shape: \", X_test.shape, \"\\n\", \"y_test  shape: \", None)"
   ]
  },
  {
   "cell_type": "markdown",
   "metadata": {
    "pycharm": {
     "name": "#%% md\n"
    }
   },
   "source": [
    "### Categorical Features"
   ]
  },
  {
   "cell_type": "code",
   "execution_count": 27,
   "metadata": {
    "pycharm": {
     "name": "#%%\n"
    }
   },
   "outputs": [],
   "source": [
    "categorical_features = TEST_OBJECT_COLUMNS"
   ]
  },
  {
   "cell_type": "code",
   "execution_count": 28,
   "metadata": {
    "pycharm": {
     "name": "#%%\n"
    }
   },
   "outputs": [],
   "source": [
    "categorical_features_index = []\n",
    "for column in categorical_features:\n",
    "    categorical_features_index.append(X_train.columns.get_loc(column))"
   ]
  },
  {
   "cell_type": "code",
   "execution_count": 29,
   "metadata": {
    "pycharm": {
     "name": "#%%\n"
    }
   },
   "outputs": [
    {
     "data": {
      "text/plain": [
       "[]"
      ]
     },
     "execution_count": 29,
     "metadata": {},
     "output_type": "execute_result"
    }
   ],
   "source": [
    "categorical_features_index"
   ]
  },
  {
   "cell_type": "markdown",
   "metadata": {
    "pycharm": {
     "name": "#%% md\n"
    }
   },
   "source": [
    "### Class Weights"
   ]
  },
  {
   "cell_type": "code",
   "execution_count": 30,
   "metadata": {
    "pycharm": {
     "name": "#%%\n"
    }
   },
   "outputs": [],
   "source": [
    "# labels_dict : {ind_label: count_label}\n",
    "# mu : parameter to tune\n",
    "\n",
    "def create_class_weight(labels_dict, mu=0.15):\n",
    "    total = np.sum(list(labels_dict.values()))\n",
    "    keys = labels_dict.keys()\n",
    "    class_weight = dict()\n",
    "\n",
    "    for key in keys:\n",
    "        score = math.log(mu*total/float(labels_dict[key]))\n",
    "        class_weight[key] = score if score > 1.0 else 1.0\n",
    "\n",
    "    return class_weight"
   ]
  },
  {
   "cell_type": "code",
   "execution_count": 31,
   "metadata": {
    "pycharm": {
     "name": "#%%\n"
    }
   },
   "outputs": [],
   "source": [
    "labels_dict = {0: 22483, 1: 915}"
   ]
  },
  {
   "cell_type": "code",
   "execution_count": 32,
   "metadata": {
    "pycharm": {
     "name": "#%%\n"
    }
   },
   "outputs": [
    {
     "data": {
      "text/plain": [
       "{0: 1.0, 1: 1.3443617774461443}"
      ]
     },
     "execution_count": 32,
     "metadata": {},
     "output_type": "execute_result"
    }
   ],
   "source": [
    "create_class_weight(labels_dict)"
   ]
  },
  {
   "cell_type": "code",
   "execution_count": 33,
   "metadata": {
    "pycharm": {
     "name": "#%%\n"
    }
   },
   "outputs": [],
   "source": [
    "labels_dict = {\n",
    "    2: 2262087,\n",
    "    1: 1468136,\n",
    "    3: 195712,\n",
    "    7: 62261,\n",
    "    6: 11426,\n",
    "    4: 377,\n",
    "    5: 1\n",
    "}"
   ]
  },
  {
   "cell_type": "code",
   "execution_count": 34,
   "metadata": {
    "pycharm": {
     "name": "#%%\n"
    }
   },
   "outputs": [
    {
     "data": {
      "text/plain": [
       "{2: 2262087, 1: 1468136, 3: 195712, 7: 62261, 6: 11426, 4: 377, 5: 1}"
      ]
     },
     "execution_count": 34,
     "metadata": {},
     "output_type": "execute_result"
    }
   ],
   "source": [
    "labels_dict"
   ]
  },
  {
   "cell_type": "code",
   "execution_count": 35,
   "metadata": {
    "pycharm": {
     "name": "#%%\n"
    }
   },
   "outputs": [
    {
     "data": {
      "text/plain": [
       "{2: 1.0,\n",
       " 1: 1.0,\n",
       " 3: 1.120285464349604,\n",
       " 7: 2.2655944286548326,\n",
       " 6: 3.9610381949138755,\n",
       " 4: 7.372439746750272,\n",
       " 5: 13.304684934198283}"
      ]
     },
     "execution_count": 35,
     "metadata": {},
     "output_type": "execute_result"
    }
   ],
   "source": [
    "create_class_weight(labels_dict)"
   ]
  },
  {
   "cell_type": "code",
   "execution_count": 36,
   "metadata": {
    "pycharm": {
     "name": "#%%\n"
    }
   },
   "outputs": [],
   "source": [
    "class_weights = {2: 2262087/4000000, 1: 1468136/4000000, 3: 195712/4000000, 7: 62261/4000000, 6: 11426/4000000, 4: 377/4000000, 5: 1/4000000}"
   ]
  },
  {
   "cell_type": "markdown",
   "metadata": {
    "pycharm": {
     "name": "#%% md\n"
    }
   },
   "source": [
    "### FEATURE SELECTOR"
   ]
  },
  {
   "cell_type": "code",
   "execution_count": 37,
   "metadata": {
    "pycharm": {
     "name": "#%%\n"
    }
   },
   "outputs": [],
   "source": [
    "selector = CatBoostClassifier(\n",
    "    #     loss_function=\"CrossEntropy\", # class weights takes effect only with Logloss, MultiClass, MultiClassOneVsAll\n",
    "    loss_function=\"MultiClass\",\n",
    "    eval_metric=\"Accuracy\",\n",
    "    class_weights=class_weights,\n",
    "    one_hot_max_size=31,\n",
    "    depth=6,\n",
    "    iterations= 1000,\n",
    "    l2_leaf_reg= 3,\n",
    "    learning_rate= 0.03,\n",
    "    nan_mode=\"Max\",\n",
    "    cat_features=categorical_features_index\n",
    ")"
   ]
  },
  {
   "cell_type": "code",
   "execution_count": 38,
   "metadata": {
    "pycharm": {
     "name": "#%%\n"
    }
   },
   "outputs": [],
   "source": [
    "feature_names= X_train.columns.to_list()"
   ]
  },
  {
   "cell_type": "code",
   "execution_count": 39,
   "metadata": {
    "pycharm": {
     "name": "#%%\n"
    }
   },
   "outputs": [],
   "source": [
    "train_pool = Pool(X_train, y_train, cat_features=categorical_features_index, feature_names=feature_names)\n",
    "#test_pool = Pool(X_test, y_test, cat_features=categorical_features_index, feature_names=feature_names)"
   ]
  },
  {
   "cell_type": "code",
   "execution_count": 40,
   "metadata": {
    "pycharm": {
     "name": "#%%\n"
    }
   },
   "outputs": [
    {
     "data": {
      "text/plain": [
       "53"
      ]
     },
     "execution_count": 40,
     "metadata": {},
     "output_type": "execute_result"
    }
   ],
   "source": [
    "X_test.shape[1]-1"
   ]
  },
  {
   "cell_type": "code",
   "execution_count": 41,
   "metadata": {
    "pycharm": {
     "name": "#%%\n"
    }
   },
   "outputs": [
    {
     "data": {
      "text/plain": [
       "'0-53'"
      ]
     },
     "execution_count": 41,
     "metadata": {},
     "output_type": "execute_result"
    }
   ],
   "source": [
    "'0-' + str(X_test.shape[1]-1)"
   ]
  },
  {
   "cell_type": "code",
   "execution_count": 42,
   "metadata": {
    "pycharm": {
     "name": "#%%\n"
    },
    "scrolled": true
   },
   "outputs": [
    {
     "data": {
      "application/vnd.jupyter.widget-view+json": {
       "model_id": "1dfd185e1eda47a788a5f92da12cbf66",
       "version_major": 2,
       "version_minor": 0
      },
      "text/plain": [
       "MetricVisualizer(layout=Layout(align_self='stretch', height='500px'))"
      ]
     },
     "metadata": {},
     "output_type": "display_data"
    },
    {
     "name": "stdout",
     "output_type": "stream",
     "text": [
      "Step #1 out of 10\n",
      "0:\tlearn: 0.9445243\ttotal: 1.75s\tremaining: 29m 8s\n",
      "1:\tlearn: 0.9460076\ttotal: 3.4s\tremaining: 28m 15s\n",
      "2:\tlearn: 0.9495158\ttotal: 5s\tremaining: 27m 41s\n",
      "3:\tlearn: 0.9489258\ttotal: 6.48s\tremaining: 26m 54s\n",
      "4:\tlearn: 0.9460824\ttotal: 7.91s\tremaining: 26m 13s\n",
      "5:\tlearn: 0.9460039\ttotal: 9.45s\tremaining: 26m 5s\n",
      "6:\tlearn: 0.9465193\ttotal: 10.9s\tremaining: 25m 43s\n",
      "7:\tlearn: 0.9497443\ttotal: 12.5s\tremaining: 25m 45s\n",
      "8:\tlearn: 0.9496211\ttotal: 14s\tremaining: 25m 41s\n",
      "9:\tlearn: 0.9497429\ttotal: 15.6s\tremaining: 25m 41s\n",
      "10:\tlearn: 0.9499528\ttotal: 17.1s\tremaining: 25m 37s\n",
      "11:\tlearn: 0.9499666\ttotal: 18.7s\tremaining: 25m 37s\n",
      "12:\tlearn: 0.9500961\ttotal: 20.2s\tremaining: 25m 31s\n",
      "13:\tlearn: 0.9502051\ttotal: 21.7s\tremaining: 25m 29s\n",
      "14:\tlearn: 0.9502413\ttotal: 23.3s\tremaining: 25m 29s\n",
      "15:\tlearn: 0.9500432\ttotal: 24.9s\tremaining: 25m 34s\n",
      "16:\tlearn: 0.9502103\ttotal: 26.4s\tremaining: 25m 27s\n",
      "17:\tlearn: 0.9500005\ttotal: 27.9s\tremaining: 25m 20s\n",
      "18:\tlearn: 0.9503483\ttotal: 29.3s\tremaining: 25m 15s\n",
      "19:\tlearn: 0.9500011\ttotal: 30.8s\tremaining: 25m 10s\n",
      "20:\tlearn: 0.9505212\ttotal: 32.4s\tremaining: 25m 10s\n",
      "21:\tlearn: 0.9504728\ttotal: 34s\tremaining: 25m 11s\n",
      "22:\tlearn: 0.9503684\ttotal: 35.6s\tremaining: 25m 11s\n",
      "23:\tlearn: 0.9505523\ttotal: 37.1s\tremaining: 25m 8s\n",
      "24:\tlearn: 0.9508005\ttotal: 38.7s\tremaining: 25m 8s\n",
      "25:\tlearn: 0.9527383\ttotal: 40.1s\tremaining: 25m 3s\n",
      "26:\tlearn: 0.9516919\ttotal: 41.9s\tremaining: 25m 11s\n",
      "27:\tlearn: 0.9513411\ttotal: 43.5s\tremaining: 25m 9s\n",
      "28:\tlearn: 0.9527758\ttotal: 45s\tremaining: 25m 5s\n",
      "29:\tlearn: 0.9521466\ttotal: 46.6s\tremaining: 25m 7s\n",
      "30:\tlearn: 0.9530042\ttotal: 48.2s\tremaining: 25m 5s\n",
      "31:\tlearn: 0.9533067\ttotal: 49.7s\tremaining: 25m 2s\n",
      "32:\tlearn: 0.9532199\ttotal: 51.1s\tremaining: 24m 57s\n",
      "33:\tlearn: 0.9534159\ttotal: 52.6s\tremaining: 24m 55s\n",
      "34:\tlearn: 0.9534363\ttotal: 54.5s\tremaining: 25m 1s\n",
      "35:\tlearn: 0.9534598\ttotal: 56.2s\tremaining: 25m 5s\n",
      "36:\tlearn: 0.9535045\ttotal: 58.1s\tremaining: 25m 13s\n",
      "37:\tlearn: 0.9535882\ttotal: 60s\tremaining: 25m 17s\n",
      "38:\tlearn: 0.9536726\ttotal: 1m 1s\tremaining: 25m 16s\n",
      "39:\tlearn: 0.9536608\ttotal: 1m 3s\tremaining: 25m 17s\n",
      "40:\tlearn: 0.9537288\ttotal: 1m 4s\tremaining: 25m 17s\n",
      "41:\tlearn: 0.9538944\ttotal: 1m 6s\tremaining: 25m 13s\n",
      "42:\tlearn: 0.9539623\ttotal: 1m 7s\tremaining: 25m 10s\n",
      "43:\tlearn: 0.9540026\ttotal: 1m 9s\tremaining: 25m 9s\n",
      "44:\tlearn: 0.9542186\ttotal: 1m 10s\tremaining: 25m 6s\n",
      "45:\tlearn: 0.9542065\ttotal: 1m 12s\tremaining: 25m 3s\n",
      "46:\tlearn: 0.9543469\ttotal: 1m 14s\tremaining: 25m 2s\n",
      "47:\tlearn: 0.9545239\ttotal: 1m 15s\tremaining: 24m 56s\n",
      "48:\tlearn: 0.9545535\ttotal: 1m 16s\tremaining: 24m 53s\n",
      "49:\tlearn: 0.9546466\ttotal: 1m 18s\tremaining: 24m 53s\n",
      "50:\tlearn: 0.9546685\ttotal: 1m 20s\tremaining: 24m 50s\n",
      "51:\tlearn: 0.9547076\ttotal: 1m 21s\tremaining: 24m 47s\n",
      "52:\tlearn: 0.9549074\ttotal: 1m 23s\tremaining: 24m 45s\n",
      "53:\tlearn: 0.9550062\ttotal: 1m 24s\tremaining: 24m 40s\n",
      "54:\tlearn: 0.9550518\ttotal: 1m 25s\tremaining: 24m 34s\n",
      "55:\tlearn: 0.9551129\ttotal: 1m 27s\tremaining: 24m 34s\n",
      "56:\tlearn: 0.9551305\ttotal: 1m 28s\tremaining: 24m 30s\n",
      "57:\tlearn: 0.9553029\ttotal: 1m 30s\tremaining: 24m 26s\n",
      "58:\tlearn: 0.9553644\ttotal: 1m 31s\tremaining: 24m 20s\n",
      "59:\tlearn: 0.9554042\ttotal: 1m 33s\tremaining: 24m 17s\n",
      "60:\tlearn: 0.9554085\ttotal: 1m 34s\tremaining: 24m 12s\n",
      "61:\tlearn: 0.9555421\ttotal: 1m 35s\tremaining: 24m 9s\n",
      "62:\tlearn: 0.9555580\ttotal: 1m 37s\tremaining: 24m 5s\n",
      "63:\tlearn: 0.9556167\ttotal: 1m 38s\tremaining: 24m\n",
      "64:\tlearn: 0.9555975\ttotal: 1m 39s\tremaining: 23m 57s\n",
      "65:\tlearn: 0.9557573\ttotal: 1m 41s\tremaining: 23m 59s\n",
      "66:\tlearn: 0.9557688\ttotal: 1m 43s\tremaining: 23m 55s\n",
      "67:\tlearn: 0.9557758\ttotal: 1m 44s\tremaining: 23m 50s\n",
      "68:\tlearn: 0.9558494\ttotal: 1m 45s\tremaining: 23m 48s\n",
      "69:\tlearn: 0.9559412\ttotal: 1m 47s\tremaining: 23m 45s\n",
      "70:\tlearn: 0.9559787\ttotal: 1m 48s\tremaining: 23m 46s\n",
      "71:\tlearn: 0.9559613\ttotal: 1m 50s\tremaining: 23m 43s\n",
      "72:\tlearn: 0.9559845\ttotal: 1m 51s\tremaining: 23m 40s\n",
      "73:\tlearn: 0.9561200\ttotal: 1m 53s\tremaining: 23m 40s\n",
      "74:\tlearn: 0.9561966\ttotal: 1m 54s\tremaining: 23m 37s\n",
      "75:\tlearn: 0.9563778\ttotal: 1m 56s\tremaining: 23m 36s\n",
      "76:\tlearn: 0.9564889\ttotal: 1m 57s\tremaining: 23m 32s\n",
      "77:\tlearn: 0.9566113\ttotal: 1m 59s\tremaining: 23m 28s\n",
      "78:\tlearn: 0.9567224\ttotal: 2m\tremaining: 23m 28s\n",
      "79:\tlearn: 0.9567893\ttotal: 2m 2s\tremaining: 23m 25s\n",
      "80:\tlearn: 0.9568783\ttotal: 2m 3s\tremaining: 23m 22s\n",
      "81:\tlearn: 0.9568965\ttotal: 2m 4s\tremaining: 23m 17s\n",
      "82:\tlearn: 0.9569028\ttotal: 2m 6s\tremaining: 23m 15s\n",
      "83:\tlearn: 0.9570304\ttotal: 2m 7s\tremaining: 23m 13s\n",
      "84:\tlearn: 0.9570650\ttotal: 2m 9s\tremaining: 23m 10s\n",
      "85:\tlearn: 0.9571995\ttotal: 2m 10s\tremaining: 23m 11s\n",
      "86:\tlearn: 0.9572393\ttotal: 2m 12s\tremaining: 23m 7s\n",
      "87:\tlearn: 0.9573074\ttotal: 2m 13s\tremaining: 23m 4s\n",
      "88:\tlearn: 0.9574559\ttotal: 2m 14s\tremaining: 23m\n",
      "89:\tlearn: 0.9575998\ttotal: 2m 16s\tremaining: 22m 56s\n",
      "90:\tlearn: 0.9576335\ttotal: 2m 17s\tremaining: 22m 56s\n",
      "91:\tlearn: 0.9576328\ttotal: 2m 19s\tremaining: 22m 55s\n",
      "92:\tlearn: 0.9576784\ttotal: 2m 20s\tremaining: 22m 53s\n",
      "93:\tlearn: 0.9577050\ttotal: 2m 22s\tremaining: 22m 51s\n",
      "94:\tlearn: 0.9577779\ttotal: 2m 23s\tremaining: 22m 50s\n",
      "95:\tlearn: 0.9578547\ttotal: 2m 25s\tremaining: 22m 48s\n",
      "96:\tlearn: 0.9579203\ttotal: 2m 26s\tremaining: 22m 45s\n",
      "97:\tlearn: 0.9580552\ttotal: 2m 28s\tremaining: 22m 43s\n",
      "98:\tlearn: 0.9581246\ttotal: 2m 29s\tremaining: 22m 43s\n",
      "99:\tlearn: 0.9581918\ttotal: 2m 31s\tremaining: 22m 41s\n",
      "100:\tlearn: 0.9583136\ttotal: 2m 32s\tremaining: 22m 38s\n",
      "101:\tlearn: 0.9583204\ttotal: 2m 33s\tremaining: 22m 34s\n",
      "102:\tlearn: 0.9583752\ttotal: 2m 35s\tremaining: 22m 31s\n",
      "103:\tlearn: 0.9585068\ttotal: 2m 36s\tremaining: 22m 29s\n",
      "104:\tlearn: 0.9586209\ttotal: 2m 37s\tremaining: 22m 24s\n",
      "105:\tlearn: 0.9587347\ttotal: 2m 38s\tremaining: 22m 20s\n",
      "106:\tlearn: 0.9587875\ttotal: 2m 40s\tremaining: 22m 19s\n",
      "107:\tlearn: 0.9589050\ttotal: 2m 41s\tremaining: 22m 15s\n",
      "108:\tlearn: 0.9590058\ttotal: 2m 43s\tremaining: 22m 13s\n",
      "109:\tlearn: 0.9590563\ttotal: 2m 44s\tremaining: 22m 10s\n",
      "110:\tlearn: 0.9591073\ttotal: 2m 45s\tremaining: 22m 9s\n",
      "111:\tlearn: 0.9591158\ttotal: 2m 47s\tremaining: 22m 6s\n",
      "112:\tlearn: 0.9592069\ttotal: 2m 48s\tremaining: 22m 3s\n",
      "113:\tlearn: 0.9593038\ttotal: 2m 50s\tremaining: 22m 1s\n",
      "114:\tlearn: 0.9593827\ttotal: 2m 51s\tremaining: 21m 59s\n",
      "115:\tlearn: 0.9594509\ttotal: 2m 52s\tremaining: 21m 58s\n",
      "116:\tlearn: 0.9594921\ttotal: 2m 54s\tremaining: 21m 55s\n",
      "117:\tlearn: 0.9595588\ttotal: 2m 56s\tremaining: 21m 56s\n",
      "118:\tlearn: 0.9596130\ttotal: 2m 57s\tremaining: 21m 53s\n",
      "119:\tlearn: 0.9596524\ttotal: 2m 58s\tremaining: 21m 51s\n",
      "120:\tlearn: 0.9597701\ttotal: 3m\tremaining: 21m 49s\n",
      "121:\tlearn: 0.9598434\ttotal: 3m 1s\tremaining: 21m 47s\n",
      "122:\tlearn: 0.9599216\ttotal: 3m 2s\tremaining: 21m 43s\n",
      "123:\tlearn: 0.9599469\ttotal: 3m 3s\tremaining: 21m 39s\n",
      "124:\tlearn: 0.9600018\ttotal: 3m 5s\tremaining: 21m 37s\n",
      "125:\tlearn: 0.9600983\ttotal: 3m 6s\tremaining: 21m 35s\n",
      "126:\tlearn: 0.9601551\ttotal: 3m 7s\tremaining: 21m 32s\n",
      "127:\tlearn: 0.9602073\ttotal: 3m 9s\tremaining: 21m 30s\n",
      "128:\tlearn: 0.9603181\ttotal: 3m 10s\tremaining: 21m 28s\n",
      "129:\tlearn: 0.9604170\ttotal: 3m 12s\tremaining: 21m 26s\n",
      "130:\tlearn: 0.9604638\ttotal: 3m 13s\tremaining: 21m 24s\n",
      "131:\tlearn: 0.9604869\ttotal: 3m 15s\tremaining: 21m 22s\n",
      "132:\tlearn: 0.9605758\ttotal: 3m 16s\tremaining: 21m 20s\n",
      "133:\tlearn: 0.9606579\ttotal: 3m 17s\tremaining: 21m 17s\n",
      "134:\tlearn: 0.9607403\ttotal: 3m 18s\tremaining: 21m 13s\n",
      "135:\tlearn: 0.9608305\ttotal: 3m 20s\tremaining: 21m 11s\n",
      "136:\tlearn: 0.9608702\ttotal: 3m 21s\tremaining: 21m 9s\n",
      "137:\tlearn: 0.9609407\ttotal: 3m 23s\tremaining: 21m 8s\n",
      "138:\tlearn: 0.9610021\ttotal: 3m 24s\tremaining: 21m 5s\n",
      "139:\tlearn: 0.9610614\ttotal: 3m 25s\tremaining: 21m 3s\n",
      "140:\tlearn: 0.9610792\ttotal: 3m 27s\tremaining: 21m 1s\n",
      "141:\tlearn: 0.9611192\ttotal: 3m 28s\tremaining: 20m 59s\n",
      "142:\tlearn: 0.9611988\ttotal: 3m 29s\tremaining: 20m 55s\n",
      "143:\tlearn: 0.9612599\ttotal: 3m 30s\tremaining: 20m 52s\n",
      "144:\tlearn: 0.9613147\ttotal: 3m 32s\tremaining: 20m 51s\n",
      "145:\tlearn: 0.9613727\ttotal: 3m 33s\tremaining: 20m 48s\n",
      "146:\tlearn: 0.9614586\ttotal: 3m 34s\tremaining: 20m 47s\n",
      "147:\tlearn: 0.9615149\ttotal: 3m 36s\tremaining: 20m 44s\n",
      "148:\tlearn: 0.9615613\ttotal: 3m 37s\tremaining: 20m 42s\n",
      "149:\tlearn: 0.9615896\ttotal: 3m 38s\tremaining: 20m 40s\n",
      "150:\tlearn: 0.9616216\ttotal: 3m 40s\tremaining: 20m 37s\n",
      "151:\tlearn: 0.9616943\ttotal: 3m 41s\tremaining: 20m 34s\n",
      "152:\tlearn: 0.9617853\ttotal: 3m 42s\tremaining: 20m 33s\n"
     ]
    },
    {
     "name": "stdout",
     "output_type": "stream",
     "text": [
      "153:\tlearn: 0.9618387\ttotal: 3m 44s\tremaining: 20m 31s\n",
      "154:\tlearn: 0.9618827\ttotal: 3m 45s\tremaining: 20m 30s\n",
      "155:\tlearn: 0.9619155\ttotal: 3m 46s\tremaining: 20m 27s\n",
      "156:\tlearn: 0.9619630\ttotal: 3m 48s\tremaining: 20m 24s\n",
      "157:\tlearn: 0.9620418\ttotal: 3m 49s\tremaining: 20m 22s\n",
      "158:\tlearn: 0.9620751\ttotal: 3m 50s\tremaining: 20m 20s\n",
      "159:\tlearn: 0.9621184\ttotal: 3m 52s\tremaining: 20m 18s\n",
      "160:\tlearn: 0.9621450\ttotal: 3m 53s\tremaining: 20m 15s\n",
      "161:\tlearn: 0.9621748\ttotal: 3m 54s\tremaining: 20m 14s\n",
      "162:\tlearn: 0.9622340\ttotal: 3m 56s\tremaining: 20m 12s\n",
      "163:\tlearn: 0.9623033\ttotal: 3m 57s\tremaining: 20m 10s\n",
      "164:\tlearn: 0.9623499\ttotal: 3m 58s\tremaining: 20m 7s\n",
      "165:\tlearn: 0.9624369\ttotal: 3m 59s\tremaining: 20m 5s\n",
      "166:\tlearn: 0.9625036\ttotal: 4m 1s\tremaining: 20m 4s\n",
      "167:\tlearn: 0.9625269\ttotal: 4m 2s\tremaining: 20m 3s\n",
      "168:\tlearn: 0.9625824\ttotal: 4m 4s\tremaining: 20m 2s\n",
      "169:\tlearn: 0.9626268\ttotal: 4m 5s\tremaining: 19m 59s\n",
      "170:\tlearn: 0.9626757\ttotal: 4m 6s\tremaining: 19m 57s\n",
      "171:\tlearn: 0.9627299\ttotal: 4m 8s\tremaining: 19m 54s\n",
      "172:\tlearn: 0.9627969\ttotal: 4m 9s\tremaining: 19m 53s\n",
      "173:\tlearn: 0.9628420\ttotal: 4m 10s\tremaining: 19m 51s\n",
      "174:\tlearn: 0.9628630\ttotal: 4m 12s\tremaining: 19m 49s\n",
      "175:\tlearn: 0.9629182\ttotal: 4m 13s\tremaining: 19m 48s\n",
      "176:\tlearn: 0.9629441\ttotal: 4m 14s\tremaining: 19m 45s\n",
      "177:\tlearn: 0.9630157\ttotal: 4m 16s\tremaining: 19m 43s\n",
      "178:\tlearn: 0.9630581\ttotal: 4m 17s\tremaining: 19m 41s\n",
      "179:\tlearn: 0.9631048\ttotal: 4m 18s\tremaining: 19m 39s\n",
      "180:\tlearn: 0.9631362\ttotal: 4m 20s\tremaining: 19m 38s\n",
      "181:\tlearn: 0.9631882\ttotal: 4m 21s\tremaining: 19m 35s\n",
      "182:\tlearn: 0.9632252\ttotal: 4m 23s\tremaining: 19m 34s\n",
      "183:\tlearn: 0.9632669\ttotal: 4m 24s\tremaining: 19m 32s\n",
      "184:\tlearn: 0.9633284\ttotal: 4m 25s\tremaining: 19m 30s\n",
      "185:\tlearn: 0.9633568\ttotal: 4m 27s\tremaining: 19m 29s\n",
      "186:\tlearn: 0.9634115\ttotal: 4m 28s\tremaining: 19m 27s\n",
      "187:\tlearn: 0.9634758\ttotal: 4m 29s\tremaining: 19m 25s\n",
      "188:\tlearn: 0.9635423\ttotal: 4m 31s\tremaining: 19m 25s\n",
      "189:\tlearn: 0.9636042\ttotal: 4m 32s\tremaining: 19m 23s\n",
      "190:\tlearn: 0.9636671\ttotal: 4m 34s\tremaining: 19m 20s\n",
      "191:\tlearn: 0.9637161\ttotal: 4m 35s\tremaining: 19m 18s\n",
      "192:\tlearn: 0.9637590\ttotal: 4m 36s\tremaining: 19m 17s\n",
      "193:\tlearn: 0.9637816\ttotal: 4m 38s\tremaining: 19m 17s\n",
      "194:\tlearn: 0.9638196\ttotal: 4m 39s\tremaining: 19m 15s\n",
      "195:\tlearn: 0.9638789\ttotal: 4m 41s\tremaining: 19m 14s\n",
      "196:\tlearn: 0.9638864\ttotal: 4m 42s\tremaining: 19m 13s\n",
      "197:\tlearn: 0.9639309\ttotal: 4m 44s\tremaining: 19m 11s\n",
      "198:\tlearn: 0.9639802\ttotal: 4m 45s\tremaining: 19m 9s\n",
      "199:\tlearn: 0.9639873\ttotal: 4m 46s\tremaining: 19m 7s\n",
      "200:\tlearn: 0.9640101\ttotal: 4m 48s\tremaining: 19m 5s\n",
      "201:\tlearn: 0.9640608\ttotal: 4m 49s\tremaining: 19m 4s\n",
      "202:\tlearn: 0.9641114\ttotal: 4m 51s\tremaining: 19m 2s\n",
      "203:\tlearn: 0.9641738\ttotal: 4m 52s\tremaining: 19m\n",
      "204:\tlearn: 0.9642280\ttotal: 4m 53s\tremaining: 18m 58s\n",
      "205:\tlearn: 0.9642696\ttotal: 4m 54s\tremaining: 18m 56s\n",
      "206:\tlearn: 0.9642900\ttotal: 4m 56s\tremaining: 18m 54s\n",
      "207:\tlearn: 0.9643238\ttotal: 4m 57s\tremaining: 18m 52s\n",
      "208:\tlearn: 0.9643663\ttotal: 4m 58s\tremaining: 18m 51s\n",
      "209:\tlearn: 0.9644154\ttotal: 5m\tremaining: 18m 50s\n",
      "210:\tlearn: 0.9644640\ttotal: 5m 1s\tremaining: 18m 48s\n",
      "211:\tlearn: 0.9645161\ttotal: 5m 2s\tremaining: 18m 45s\n",
      "212:\tlearn: 0.9645594\ttotal: 5m 4s\tremaining: 18m 43s\n",
      "213:\tlearn: 0.9645805\ttotal: 5m 5s\tremaining: 18m 42s\n",
      "214:\tlearn: 0.9646272\ttotal: 5m 6s\tremaining: 18m 40s\n",
      "215:\tlearn: 0.9646735\ttotal: 5m 8s\tremaining: 18m 38s\n",
      "216:\tlearn: 0.9646882\ttotal: 5m 9s\tremaining: 18m 36s\n",
      "217:\tlearn: 0.9647231\ttotal: 5m 10s\tremaining: 18m 34s\n",
      "218:\tlearn: 0.9647505\ttotal: 5m 12s\tremaining: 18m 33s\n",
      "219:\tlearn: 0.9647816\ttotal: 5m 13s\tremaining: 18m 31s\n",
      "220:\tlearn: 0.9648090\ttotal: 5m 14s\tremaining: 18m 28s\n",
      "221:\tlearn: 0.9648636\ttotal: 5m 16s\tremaining: 18m 27s\n",
      "222:\tlearn: 0.9648956\ttotal: 5m 17s\tremaining: 18m 26s\n",
      "223:\tlearn: 0.9649488\ttotal: 5m 19s\tremaining: 18m 26s\n",
      "224:\tlearn: 0.9649787\ttotal: 5m 20s\tremaining: 18m 25s\n",
      "225:\tlearn: 0.9650254\ttotal: 5m 22s\tremaining: 18m 22s\n",
      "226:\tlearn: 0.9650419\ttotal: 5m 23s\tremaining: 18m 21s\n",
      "227:\tlearn: 0.9650811\ttotal: 5m 24s\tremaining: 18m 19s\n",
      "228:\tlearn: 0.9650901\ttotal: 5m 26s\tremaining: 18m 18s\n",
      "229:\tlearn: 0.9651218\ttotal: 5m 27s\tremaining: 18m 16s\n",
      "230:\tlearn: 0.9651348\ttotal: 5m 29s\tremaining: 18m 15s\n",
      "231:\tlearn: 0.9651846\ttotal: 5m 30s\tremaining: 18m 13s\n",
      "232:\tlearn: 0.9652291\ttotal: 5m 31s\tremaining: 18m 11s\n",
      "233:\tlearn: 0.9652584\ttotal: 5m 33s\tremaining: 18m 10s\n",
      "234:\tlearn: 0.9652737\ttotal: 5m 34s\tremaining: 18m 8s\n",
      "235:\tlearn: 0.9653031\ttotal: 5m 35s\tremaining: 18m 6s\n",
      "236:\tlearn: 0.9653495\ttotal: 5m 37s\tremaining: 18m 5s\n",
      "237:\tlearn: 0.9653849\ttotal: 5m 38s\tremaining: 18m 3s\n",
      "238:\tlearn: 0.9654152\ttotal: 5m 40s\tremaining: 18m 2s\n",
      "239:\tlearn: 0.9654451\ttotal: 5m 41s\tremaining: 18m\n",
      "240:\tlearn: 0.9654998\ttotal: 5m 42s\tremaining: 17m 58s\n",
      "241:\tlearn: 0.9655363\ttotal: 5m 43s\tremaining: 17m 56s\n",
      "242:\tlearn: 0.9655618\ttotal: 5m 44s\tremaining: 17m 54s\n",
      "243:\tlearn: 0.9655847\ttotal: 5m 46s\tremaining: 17m 52s\n",
      "244:\tlearn: 0.9656166\ttotal: 5m 47s\tremaining: 17m 50s\n",
      "245:\tlearn: 0.9656504\ttotal: 5m 48s\tremaining: 17m 48s\n",
      "246:\tlearn: 0.9656740\ttotal: 5m 49s\tremaining: 17m 45s\n",
      "247:\tlearn: 0.9657153\ttotal: 5m 50s\tremaining: 17m 43s\n",
      "248:\tlearn: 0.9657602\ttotal: 5m 51s\tremaining: 17m 41s\n",
      "249:\tlearn: 0.9657953\ttotal: 5m 53s\tremaining: 17m 39s\n",
      "250:\tlearn: 0.9658154\ttotal: 5m 54s\tremaining: 17m 37s\n",
      "251:\tlearn: 0.9658537\ttotal: 5m 55s\tremaining: 17m 36s\n",
      "252:\tlearn: 0.9658805\ttotal: 5m 56s\tremaining: 17m 33s\n",
      "253:\tlearn: 0.9658928\ttotal: 5m 58s\tremaining: 17m 31s\n",
      "254:\tlearn: 0.9659383\ttotal: 5m 59s\tremaining: 17m 29s\n",
      "255:\tlearn: 0.9659557\ttotal: 6m\tremaining: 17m 27s\n",
      "256:\tlearn: 0.9659894\ttotal: 6m 1s\tremaining: 17m 25s\n",
      "257:\tlearn: 0.9660028\ttotal: 6m 3s\tremaining: 17m 24s\n",
      "258:\tlearn: 0.9660362\ttotal: 6m 4s\tremaining: 17m 22s\n",
      "259:\tlearn: 0.9660767\ttotal: 6m 5s\tremaining: 17m 20s\n",
      "260:\tlearn: 0.9661019\ttotal: 6m 6s\tremaining: 17m 18s\n",
      "261:\tlearn: 0.9661283\ttotal: 6m 7s\tremaining: 17m 16s\n",
      "262:\tlearn: 0.9661554\ttotal: 6m 9s\tremaining: 17m 14s\n",
      "263:\tlearn: 0.9661735\ttotal: 6m 10s\tremaining: 17m 12s\n",
      "264:\tlearn: 0.9661981\ttotal: 6m 11s\tremaining: 17m 11s\n",
      "265:\tlearn: 0.9662305\ttotal: 6m 13s\tremaining: 17m 9s\n",
      "266:\tlearn: 0.9662630\ttotal: 6m 14s\tremaining: 17m 7s\n",
      "267:\tlearn: 0.9662923\ttotal: 6m 15s\tremaining: 17m 6s\n",
      "268:\tlearn: 0.9663167\ttotal: 6m 17s\tremaining: 17m 4s\n",
      "269:\tlearn: 0.9663589\ttotal: 6m 18s\tremaining: 17m 2s\n",
      "270:\tlearn: 0.9663788\ttotal: 6m 19s\tremaining: 17m\n",
      "271:\tlearn: 0.9664224\ttotal: 6m 20s\tremaining: 16m 59s\n",
      "272:\tlearn: 0.9664603\ttotal: 6m 22s\tremaining: 16m 57s\n",
      "273:\tlearn: 0.9664763\ttotal: 6m 23s\tremaining: 16m 56s\n",
      "274:\tlearn: 0.9665071\ttotal: 6m 24s\tremaining: 16m 54s\n",
      "275:\tlearn: 0.9665221\ttotal: 6m 26s\tremaining: 16m 52s\n",
      "276:\tlearn: 0.9665484\ttotal: 6m 27s\tremaining: 16m 50s\n",
      "277:\tlearn: 0.9665767\ttotal: 6m 28s\tremaining: 16m 49s\n",
      "278:\tlearn: 0.9666084\ttotal: 6m 29s\tremaining: 16m 47s\n",
      "279:\tlearn: 0.9666398\ttotal: 6m 31s\tremaining: 16m 45s\n",
      "280:\tlearn: 0.9666552\ttotal: 6m 32s\tremaining: 16m 43s\n",
      "281:\tlearn: 0.9666768\ttotal: 6m 33s\tremaining: 16m 42s\n",
      "282:\tlearn: 0.9667033\ttotal: 6m 34s\tremaining: 16m 40s\n",
      "283:\tlearn: 0.9667280\ttotal: 6m 36s\tremaining: 16m 38s\n",
      "284:\tlearn: 0.9667601\ttotal: 6m 37s\tremaining: 16m 36s\n",
      "285:\tlearn: 0.9667832\ttotal: 6m 38s\tremaining: 16m 35s\n",
      "286:\tlearn: 0.9668139\ttotal: 6m 40s\tremaining: 16m 33s\n",
      "287:\tlearn: 0.9668346\ttotal: 6m 41s\tremaining: 16m 32s\n",
      "288:\tlearn: 0.9668616\ttotal: 6m 42s\tremaining: 16m 30s\n",
      "289:\tlearn: 0.9668867\ttotal: 6m 44s\tremaining: 16m 29s\n",
      "290:\tlearn: 0.9669054\ttotal: 6m 45s\tremaining: 16m 27s\n",
      "291:\tlearn: 0.9669238\ttotal: 6m 46s\tremaining: 16m 26s\n",
      "292:\tlearn: 0.9669422\ttotal: 6m 48s\tremaining: 16m 24s\n",
      "293:\tlearn: 0.9669520\ttotal: 6m 49s\tremaining: 16m 22s\n",
      "294:\tlearn: 0.9669600\ttotal: 6m 50s\tremaining: 16m 20s\n",
      "295:\tlearn: 0.9669968\ttotal: 6m 51s\tremaining: 16m 19s\n",
      "296:\tlearn: 0.9670428\ttotal: 6m 53s\tremaining: 16m 18s\n",
      "297:\tlearn: 0.9670668\ttotal: 6m 54s\tremaining: 16m 16s\n",
      "298:\tlearn: 0.9670939\ttotal: 6m 56s\tremaining: 16m 15s\n",
      "299:\tlearn: 0.9671152\ttotal: 6m 57s\tremaining: 16m 14s\n",
      "300:\tlearn: 0.9671301\ttotal: 6m 59s\tremaining: 16m 13s\n",
      "301:\tlearn: 0.9671577\ttotal: 7m\tremaining: 16m 12s\n",
      "302:\tlearn: 0.9671794\ttotal: 7m 2s\tremaining: 16m 10s\n",
      "303:\tlearn: 0.9671972\ttotal: 7m 3s\tremaining: 16m 9s\n"
     ]
    },
    {
     "name": "stdout",
     "output_type": "stream",
     "text": [
      "304:\tlearn: 0.9672183\ttotal: 7m 4s\tremaining: 16m 7s\n",
      "305:\tlearn: 0.9672496\ttotal: 7m 6s\tremaining: 16m 6s\n",
      "306:\tlearn: 0.9672743\ttotal: 7m 7s\tremaining: 16m 4s\n",
      "307:\tlearn: 0.9673109\ttotal: 7m 8s\tremaining: 16m 3s\n",
      "308:\tlearn: 0.9673369\ttotal: 7m 9s\tremaining: 16m 1s\n",
      "309:\tlearn: 0.9673521\ttotal: 7m 11s\tremaining: 15m 59s\n",
      "310:\tlearn: 0.9673886\ttotal: 7m 12s\tremaining: 15m 57s\n",
      "311:\tlearn: 0.9674277\ttotal: 7m 13s\tremaining: 15m 56s\n",
      "312:\tlearn: 0.9674483\ttotal: 7m 15s\tremaining: 15m 55s\n",
      "313:\tlearn: 0.9674625\ttotal: 7m 16s\tremaining: 15m 53s\n",
      "314:\tlearn: 0.9674791\ttotal: 7m 17s\tremaining: 15m 52s\n",
      "315:\tlearn: 0.9675037\ttotal: 7m 19s\tremaining: 15m 50s\n",
      "316:\tlearn: 0.9675228\ttotal: 7m 20s\tremaining: 15m 49s\n",
      "317:\tlearn: 0.9675544\ttotal: 7m 21s\tremaining: 15m 47s\n",
      "318:\tlearn: 0.9675792\ttotal: 7m 23s\tremaining: 15m 45s\n",
      "319:\tlearn: 0.9676096\ttotal: 7m 24s\tremaining: 15m 44s\n",
      "320:\tlearn: 0.9676317\ttotal: 7m 25s\tremaining: 15m 42s\n",
      "321:\tlearn: 0.9676389\ttotal: 7m 26s\tremaining: 15m 41s\n",
      "322:\tlearn: 0.9676658\ttotal: 7m 28s\tremaining: 15m 39s\n",
      "323:\tlearn: 0.9676880\ttotal: 7m 29s\tremaining: 15m 37s\n",
      "324:\tlearn: 0.9677010\ttotal: 7m 30s\tremaining: 15m 36s\n",
      "325:\tlearn: 0.9677231\ttotal: 7m 32s\tremaining: 15m 34s\n",
      "326:\tlearn: 0.9677579\ttotal: 7m 33s\tremaining: 15m 33s\n",
      "327:\tlearn: 0.9677880\ttotal: 7m 35s\tremaining: 15m 32s\n",
      "328:\tlearn: 0.9678058\ttotal: 7m 36s\tremaining: 15m 30s\n",
      "329:\tlearn: 0.9678284\ttotal: 7m 37s\tremaining: 15m 29s\n",
      "330:\tlearn: 0.9678402\ttotal: 7m 39s\tremaining: 15m 28s\n",
      "331:\tlearn: 0.9678544\ttotal: 7m 41s\tremaining: 15m 27s\n",
      "332:\tlearn: 0.9678771\ttotal: 7m 42s\tremaining: 15m 26s\n",
      "333:\tlearn: 0.9678938\ttotal: 7m 44s\tremaining: 15m 25s\n",
      "334:\tlearn: 0.9679155\ttotal: 7m 45s\tremaining: 15m 24s\n",
      "335:\tlearn: 0.9679329\ttotal: 7m 46s\tremaining: 15m 22s\n",
      "336:\tlearn: 0.9679504\ttotal: 7m 48s\tremaining: 15m 21s\n",
      "337:\tlearn: 0.9679598\ttotal: 7m 49s\tremaining: 15m 20s\n",
      "338:\tlearn: 0.9679854\ttotal: 7m 51s\tremaining: 15m 19s\n",
      "339:\tlearn: 0.9680088\ttotal: 7m 52s\tremaining: 15m 17s\n",
      "340:\tlearn: 0.9680279\ttotal: 7m 54s\tremaining: 15m 16s\n",
      "341:\tlearn: 0.9680436\ttotal: 7m 55s\tremaining: 15m 15s\n",
      "342:\tlearn: 0.9680709\ttotal: 7m 57s\tremaining: 15m 13s\n",
      "343:\tlearn: 0.9680904\ttotal: 7m 58s\tremaining: 15m 12s\n",
      "344:\tlearn: 0.9681170\ttotal: 8m\tremaining: 15m 11s\n",
      "345:\tlearn: 0.9681340\ttotal: 8m 1s\tremaining: 15m 10s\n",
      "346:\tlearn: 0.9681494\ttotal: 8m 3s\tremaining: 15m 9s\n",
      "347:\tlearn: 0.9681682\ttotal: 8m 4s\tremaining: 15m 7s\n",
      "348:\tlearn: 0.9681932\ttotal: 8m 5s\tremaining: 15m 5s\n",
      "349:\tlearn: 0.9682020\ttotal: 8m 7s\tremaining: 15m 4s\n",
      "350:\tlearn: 0.9682151\ttotal: 8m 8s\tremaining: 15m 2s\n",
      "351:\tlearn: 0.9682457\ttotal: 8m 9s\tremaining: 15m 1s\n",
      "352:\tlearn: 0.9682522\ttotal: 8m 11s\tremaining: 14m 59s\n",
      "353:\tlearn: 0.9682826\ttotal: 8m 12s\tremaining: 14m 59s\n",
      "354:\tlearn: 0.9683074\ttotal: 8m 13s\tremaining: 14m 57s\n",
      "355:\tlearn: 0.9683247\ttotal: 8m 15s\tremaining: 14m 56s\n",
      "356:\tlearn: 0.9683477\ttotal: 8m 16s\tremaining: 14m 54s\n",
      "357:\tlearn: 0.9683667\ttotal: 8m 18s\tremaining: 14m 53s\n",
      "358:\tlearn: 0.9683801\ttotal: 8m 19s\tremaining: 14m 52s\n",
      "359:\tlearn: 0.9683886\ttotal: 8m 21s\tremaining: 14m 50s\n",
      "360:\tlearn: 0.9684024\ttotal: 8m 22s\tremaining: 14m 49s\n",
      "361:\tlearn: 0.9684230\ttotal: 8m 23s\tremaining: 14m 47s\n",
      "362:\tlearn: 0.9684305\ttotal: 8m 24s\tremaining: 14m 45s\n",
      "363:\tlearn: 0.9684406\ttotal: 8m 25s\tremaining: 14m 43s\n",
      "364:\tlearn: 0.9684566\ttotal: 8m 27s\tremaining: 14m 42s\n",
      "365:\tlearn: 0.9684730\ttotal: 8m 28s\tremaining: 14m 41s\n",
      "366:\tlearn: 0.9684986\ttotal: 8m 30s\tremaining: 14m 39s\n",
      "367:\tlearn: 0.9685094\ttotal: 8m 31s\tremaining: 14m 38s\n",
      "368:\tlearn: 0.9685166\ttotal: 8m 32s\tremaining: 14m 36s\n",
      "369:\tlearn: 0.9685251\ttotal: 8m 34s\tremaining: 14m 35s\n",
      "370:\tlearn: 0.9685460\ttotal: 8m 35s\tremaining: 14m 34s\n",
      "371:\tlearn: 0.9685702\ttotal: 8m 36s\tremaining: 14m 32s\n",
      "372:\tlearn: 0.9685955\ttotal: 8m 38s\tremaining: 14m 31s\n",
      "373:\tlearn: 0.9686040\ttotal: 8m 39s\tremaining: 14m 29s\n",
      "374:\tlearn: 0.9686167\ttotal: 8m 40s\tremaining: 14m 27s\n",
      "375:\tlearn: 0.9686176\ttotal: 8m 42s\tremaining: 14m 26s\n",
      "376:\tlearn: 0.9686257\ttotal: 8m 43s\tremaining: 14m 25s\n",
      "377:\tlearn: 0.9686539\ttotal: 8m 45s\tremaining: 14m 24s\n",
      "378:\tlearn: 0.9686765\ttotal: 8m 46s\tremaining: 14m 22s\n",
      "379:\tlearn: 0.9686916\ttotal: 8m 47s\tremaining: 14m 20s\n",
      "380:\tlearn: 0.9687141\ttotal: 8m 48s\tremaining: 14m 19s\n",
      "381:\tlearn: 0.9687204\ttotal: 8m 50s\tremaining: 14m 17s\n",
      "382:\tlearn: 0.9687455\ttotal: 8m 51s\tremaining: 14m 15s\n",
      "383:\tlearn: 0.9687706\ttotal: 8m 52s\tremaining: 14m 14s\n",
      "384:\tlearn: 0.9687886\ttotal: 8m 53s\tremaining: 14m 12s\n",
      "385:\tlearn: 0.9687982\ttotal: 8m 55s\tremaining: 14m 11s\n",
      "386:\tlearn: 0.9688081\ttotal: 8m 56s\tremaining: 14m 9s\n",
      "387:\tlearn: 0.9688394\ttotal: 8m 57s\tremaining: 14m 8s\n",
      "388:\tlearn: 0.9688575\ttotal: 8m 59s\tremaining: 14m 6s\n",
      "389:\tlearn: 0.9688737\ttotal: 9m\tremaining: 14m 4s\n",
      "390:\tlearn: 0.9688892\ttotal: 9m 1s\tremaining: 14m 3s\n",
      "391:\tlearn: 0.9689008\ttotal: 9m 2s\tremaining: 14m 1s\n",
      "392:\tlearn: 0.9689214\ttotal: 9m 4s\tremaining: 14m\n",
      "393:\tlearn: 0.9689434\ttotal: 9m 5s\tremaining: 13m 58s\n",
      "394:\tlearn: 0.9689628\ttotal: 9m 6s\tremaining: 13m 56s\n",
      "395:\tlearn: 0.9689753\ttotal: 9m 7s\tremaining: 13m 55s\n",
      "396:\tlearn: 0.9689874\ttotal: 9m 8s\tremaining: 13m 53s\n",
      "397:\tlearn: 0.9690017\ttotal: 9m 10s\tremaining: 13m 52s\n",
      "398:\tlearn: 0.9690116\ttotal: 9m 11s\tremaining: 13m 50s\n",
      "399:\tlearn: 0.9690297\ttotal: 9m 13s\tremaining: 13m 49s\n",
      "400:\tlearn: 0.9690405\ttotal: 9m 14s\tremaining: 13m 48s\n",
      "401:\tlearn: 0.9690406\ttotal: 9m 15s\tremaining: 13m 46s\n",
      "402:\tlearn: 0.9690617\ttotal: 9m 16s\tremaining: 13m 44s\n"
     ]
    },
    {
     "ename": "KeyboardInterrupt",
     "evalue": "",
     "output_type": "error",
     "traceback": [
      "\u001b[1;31m---------------------------------------------------------------------------\u001b[0m",
      "\u001b[1;31mKeyboardInterrupt\u001b[0m                         Traceback (most recent call last)",
      "\u001b[1;32m~\\AppData\\Local\\Temp/ipykernel_29460/2039065212.py\u001b[0m in \u001b[0;36m<module>\u001b[1;34m\u001b[0m\n\u001b[1;32m----> 1\u001b[1;33m summary = selector.select_features(\n\u001b[0m\u001b[0;32m      2\u001b[0m     \u001b[0mtrain_pool\u001b[0m\u001b[1;33m,\u001b[0m \u001b[1;31m# X_train, y_train\u001b[0m\u001b[1;33m\u001b[0m\u001b[1;33m\u001b[0m\u001b[0m\n\u001b[0;32m      3\u001b[0m     \u001b[1;31m#eval_set=test_pool, # The validation dataset or datasets used for the following processes: overfitting detector, best iteration selection, monitoring metrics changes\u001b[0m\u001b[1;33m\u001b[0m\u001b[1;33m\u001b[0m\u001b[0m\n\u001b[0;32m      4\u001b[0m     \u001b[0mfeatures_for_select\u001b[0m\u001b[1;33m=\u001b[0m\u001b[1;34m'0-'\u001b[0m \u001b[1;33m+\u001b[0m \u001b[0mstr\u001b[0m\u001b[1;33m(\u001b[0m\u001b[0mX_test\u001b[0m\u001b[1;33m.\u001b[0m\u001b[0mshape\u001b[0m\u001b[1;33m[\u001b[0m\u001b[1;36m1\u001b[0m\u001b[1;33m]\u001b[0m\u001b[1;33m-\u001b[0m\u001b[1;36m1\u001b[0m\u001b[1;33m)\u001b[0m\u001b[1;33m,\u001b[0m \u001b[1;31m# Features which participate in the selection.\u001b[0m\u001b[1;33m\u001b[0m\u001b[1;33m\u001b[0m\u001b[0m\n\u001b[0;32m      5\u001b[0m     \u001b[0mnum_features_to_select\u001b[0m\u001b[1;33m=\u001b[0m\u001b[1;36m10\u001b[0m\u001b[1;33m,\u001b[0m \u001b[1;31m# The number of features to select from features_for_select.\u001b[0m\u001b[1;33m\u001b[0m\u001b[1;33m\u001b[0m\u001b[0m\n",
      "\u001b[1;32mC:\\ProgramData\\Anaconda3\\envs\\untitled\\lib\\site-packages\\catboost\\core.py\u001b[0m in \u001b[0;36mselect_features\u001b[1;34m(self, X, y, eval_set, features_for_select, num_features_to_select, algorithm, steps, shap_calc_type, train_final_model, verbose, logging_level, plot, log_cout, log_cerr)\u001b[0m\n\u001b[0;32m   4015\u001b[0m \u001b[1;33m\u001b[0m\u001b[0m\n\u001b[0;32m   4016\u001b[0m         \u001b[1;32mwith\u001b[0m \u001b[0mlog_fixup\u001b[0m\u001b[1;33m(\u001b[0m\u001b[0mlog_cout\u001b[0m\u001b[1;33m,\u001b[0m \u001b[0mlog_cerr\u001b[0m\u001b[1;33m)\u001b[0m\u001b[1;33m,\u001b[0m \u001b[0mplot_wrapper\u001b[0m\u001b[1;33m(\u001b[0m\u001b[0mplot\u001b[0m\u001b[1;33m,\u001b[0m \u001b[0mplot_dirs\u001b[0m\u001b[1;33m)\u001b[0m\u001b[1;33m:\u001b[0m\u001b[1;33m\u001b[0m\u001b[1;33m\u001b[0m\u001b[0m\n\u001b[1;32m-> 4017\u001b[1;33m             \u001b[0msummary\u001b[0m \u001b[1;33m=\u001b[0m \u001b[0mself\u001b[0m\u001b[1;33m.\u001b[0m\u001b[0m_object\u001b[0m\u001b[1;33m.\u001b[0m\u001b[0m_select_features\u001b[0m\u001b[1;33m(\u001b[0m\u001b[0mtrain_pool\u001b[0m\u001b[1;33m,\u001b[0m \u001b[0mtest_pool\u001b[0m\u001b[1;33m,\u001b[0m \u001b[0mparams\u001b[0m\u001b[1;33m)\u001b[0m\u001b[1;33m\u001b[0m\u001b[1;33m\u001b[0m\u001b[0m\n\u001b[0m\u001b[0;32m   4018\u001b[0m \u001b[1;33m\u001b[0m\u001b[0m\n\u001b[0;32m   4019\u001b[0m         \u001b[1;32mif\u001b[0m \u001b[0mtrain_final_model\u001b[0m\u001b[1;33m:\u001b[0m\u001b[1;33m\u001b[0m\u001b[1;33m\u001b[0m\u001b[0m\n",
      "\u001b[1;32m_catboost.pyx\u001b[0m in \u001b[0;36m_catboost._CatBoost._select_features\u001b[1;34m()\u001b[0m\n",
      "\u001b[1;32m_catboost.pyx\u001b[0m in \u001b[0;36m_catboost._CatBoost._select_features\u001b[1;34m()\u001b[0m\n",
      "\u001b[1;31mKeyboardInterrupt\u001b[0m: "
     ]
    }
   ],
   "source": [
    "summary = selector.select_features(\n",
    "    train_pool, # X_train, y_train\n",
    "    #eval_set=test_pool, # The validation dataset or datasets used for the following processes: overfitting detector, best iteration selection, monitoring metrics changes\n",
    "    features_for_select='0-' + str(X_test.shape[1]-1), # Features which participate in the selection.\n",
    "    num_features_to_select=10, # The number of features to select from features_for_select.\n",
    "    steps=10, # The number of times for training the model. Use more steps for more accurate selection\n",
    "    algorithm=EFeaturesSelectionAlgorithm.RecursiveByShapValues, # the most accurate method\n",
    "    shap_calc_type=EShapCalcType.Exact, # The method of the SHAP values calculations ordered by accuracy: Approximate, Regular, Exact\n",
    "    train_final_model=True, # If specified, then the model with selected features will be trained after features selection.\n",
    "    #logging_level='Silent', # optimized metric, elapsed time of training, remaining time of training\n",
    "    plot=True\n",
    ")"
   ]
  },
  {
   "cell_type": "code",
   "execution_count": null,
   "metadata": {
    "pycharm": {
     "name": "#%%\n"
    }
   },
   "outputs": [],
   "source": []
  }
 ],
 "metadata": {
  "kernelspec": {
   "display_name": "Python 3",
   "language": "python",
   "name": "python3"
  },
  "language_info": {
   "codemirror_mode": {
    "name": "ipython",
    "version": 3
   },
   "file_extension": ".py",
   "mimetype": "text/x-python",
   "name": "python",
   "nbconvert_exporter": "python",
   "pygments_lexer": "ipython3",
   "version": "3.9.7"
  }
 },
 "nbformat": 4,
 "nbformat_minor": 1
}
